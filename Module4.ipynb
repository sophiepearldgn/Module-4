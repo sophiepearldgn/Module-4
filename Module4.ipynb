{
 "cells": [
  {
   "cell_type": "code",
   "execution_count": 1,
   "id": "b38c7ece-5d1e-4d8a-acd0-a91a630cb67c",
   "metadata": {},
   "outputs": [
    {
     "ename": "SyntaxError",
     "evalue": "unterminated string literal (detected at line 3) (3921312497.py, line 3)",
     "output_type": "error",
     "traceback": [
      "\u001b[1;36m  Cell \u001b[1;32mIn[1], line 3\u001b[1;36m\u001b[0m\n\u001b[1;33m    whale_returns.csv: Contains returns of some famous \"whale\" investors' portfolios.\u001b[0m\n\u001b[1;37m                                                                        ^\u001b[0m\n\u001b[1;31mSyntaxError\u001b[0m\u001b[1;31m:\u001b[0m unterminated string literal (detected at line 3)\n"
     ]
    }
   ],
   "source": [
    "Use Pandas to read the following CSV files into DataFrames. Be sure to convert the dates to a DateTimeIndex.\n",
    "\n",
    "whale_returns.csv: Contains returns of some famous \"whale\" investors' portfolios.\n",
    "\n",
    "algo_returns.csv: Contains returns from the in-house trading algorithms from your company.\n",
    "\n",
    "sp_tsx_history.csv: Contains historical closing prices of the S&P TSX 60 Index.\n",
    "\n",
    "Identify and remove null values.\n",
    "\n",
    "Remove any non-numeric values (e.g., dollar signs) from the DataFrames and convert the data types as needed.\n",
    "\n",
    "The whale portfolios and algorithmic portfolio CSV files contain daily returns, but the S&P TSX 60 CSV file contains closing prices. Convert the S&P TSX 60 closing prices to daily returns.\n",
    "\n",
    "Join Whale Returns, Algorithmic Returns, and the S&P TSX 60 Returns into a single DataFrame with columns for each portfolio's returns."
   ]
  },
  {
   "cell_type": "code",
   "execution_count": 3,
   "id": "6eb644bc-1193-4bc5-a0e9-600f2dcafa9d",
   "metadata": {},
   "outputs": [],
   "source": [
    "\n",
    "# Initial imports\n",
    "import pandas as pd\n",
    "import numpy as np\n",
    "import datetime as dt\n",
    "from pathlib import Path\n",
    "\n",
    "%matplotlib inline"
   ]
  },
  {
   "cell_type": "markdown",
   "id": "00c9fa05-31a6-4dc0-bb69-21755944ca55",
   "metadata": {},
   "source": [
    "# Cleaning the Data"
   ]
  },
  {
   "cell_type": "code",
   "execution_count": 4,
   "id": "ecbddf9e-eaac-42e1-86c7-dc16a2300297",
   "metadata": {},
   "outputs": [
    {
     "data": {
      "text/html": [
       "<div>\n",
       "<style scoped>\n",
       "    .dataframe tbody tr th:only-of-type {\n",
       "        vertical-align: middle;\n",
       "    }\n",
       "\n",
       "    .dataframe tbody tr th {\n",
       "        vertical-align: top;\n",
       "    }\n",
       "\n",
       "    .dataframe thead th {\n",
       "        text-align: right;\n",
       "    }\n",
       "</style>\n",
       "<table border=\"1\" class=\"dataframe\">\n",
       "  <thead>\n",
       "    <tr style=\"text-align: right;\">\n",
       "      <th></th>\n",
       "      <th>SOROS FUND MANAGEMENT LLC</th>\n",
       "      <th>PAULSON &amp; CO.INC.</th>\n",
       "      <th>TIGER GLOBAL MANAGEMENT LLC</th>\n",
       "      <th>BERKSHIRE HATHAWAY INC</th>\n",
       "    </tr>\n",
       "    <tr>\n",
       "      <th>Date</th>\n",
       "      <th></th>\n",
       "      <th></th>\n",
       "      <th></th>\n",
       "      <th></th>\n",
       "    </tr>\n",
       "  </thead>\n",
       "  <tbody>\n",
       "    <tr>\n",
       "      <th>2015-03-02</th>\n",
       "      <td>NaN</td>\n",
       "      <td>NaN</td>\n",
       "      <td>NaN</td>\n",
       "      <td>NaN</td>\n",
       "    </tr>\n",
       "    <tr>\n",
       "      <th>2015-03-03</th>\n",
       "      <td>-0.001266</td>\n",
       "      <td>-0.004981</td>\n",
       "      <td>-0.000496</td>\n",
       "      <td>-0.006569</td>\n",
       "    </tr>\n",
       "    <tr>\n",
       "      <th>2015-03-04</th>\n",
       "      <td>0.002230</td>\n",
       "      <td>0.003241</td>\n",
       "      <td>-0.002534</td>\n",
       "      <td>0.004213</td>\n",
       "    </tr>\n",
       "    <tr>\n",
       "      <th>2015-03-05</th>\n",
       "      <td>0.004016</td>\n",
       "      <td>0.004076</td>\n",
       "      <td>0.002355</td>\n",
       "      <td>0.006726</td>\n",
       "    </tr>\n",
       "    <tr>\n",
       "      <th>2015-03-06</th>\n",
       "      <td>-0.007905</td>\n",
       "      <td>-0.003574</td>\n",
       "      <td>-0.008481</td>\n",
       "      <td>-0.013098</td>\n",
       "    </tr>\n",
       "  </tbody>\n",
       "</table>\n",
       "</div>"
      ],
      "text/plain": [
       "            SOROS FUND MANAGEMENT LLC  PAULSON & CO.INC.   \\\n",
       "Date                                                        \n",
       "2015-03-02                        NaN                 NaN   \n",
       "2015-03-03                  -0.001266           -0.004981   \n",
       "2015-03-04                   0.002230            0.003241   \n",
       "2015-03-05                   0.004016            0.004076   \n",
       "2015-03-06                  -0.007905           -0.003574   \n",
       "\n",
       "            TIGER GLOBAL MANAGEMENT LLC  BERKSHIRE HATHAWAY INC  \n",
       "Date                                                             \n",
       "2015-03-02                          NaN                     NaN  \n",
       "2015-03-03                    -0.000496               -0.006569  \n",
       "2015-03-04                    -0.002534                0.004213  \n",
       "2015-03-05                     0.002355                0.006726  \n",
       "2015-03-06                    -0.008481               -0.013098  "
      ]
     },
     "execution_count": 4,
     "metadata": {},
     "output_type": "execute_result"
    }
   ],
   "source": [
    "# Read in data\n",
    "csv_path =  Path(\"Starter_code/Resources/whale_returns.csv\")\n",
    "whale_returns = pd.read_csv(csv_path, parse_dates=True, index_col='Date',infer_datetime_format=True)\n",
    "#whale_returns['row_number'] = whale_returns.reset_index().index\n",
    "whale_returns.head()"
   ]
  },
  {
   "cell_type": "code",
   "execution_count": 5,
   "id": "7273d368-7449-4064-95b3-af97a3e34ca2",
   "metadata": {},
   "outputs": [
    {
     "data": {
      "text/html": [
       "<div>\n",
       "<style scoped>\n",
       "    .dataframe tbody tr th:only-of-type {\n",
       "        vertical-align: middle;\n",
       "    }\n",
       "\n",
       "    .dataframe tbody tr th {\n",
       "        vertical-align: top;\n",
       "    }\n",
       "\n",
       "    .dataframe thead th {\n",
       "        text-align: right;\n",
       "    }\n",
       "</style>\n",
       "<table border=\"1\" class=\"dataframe\">\n",
       "  <thead>\n",
       "    <tr style=\"text-align: right;\">\n",
       "      <th></th>\n",
       "      <th>Algo 1</th>\n",
       "      <th>Algo 2</th>\n",
       "    </tr>\n",
       "    <tr>\n",
       "      <th>Date</th>\n",
       "      <th></th>\n",
       "      <th></th>\n",
       "    </tr>\n",
       "  </thead>\n",
       "  <tbody>\n",
       "    <tr>\n",
       "      <th>2014-05-28</th>\n",
       "      <td>0.001745</td>\n",
       "      <td>NaN</td>\n",
       "    </tr>\n",
       "    <tr>\n",
       "      <th>2014-05-29</th>\n",
       "      <td>0.003978</td>\n",
       "      <td>NaN</td>\n",
       "    </tr>\n",
       "    <tr>\n",
       "      <th>2014-05-30</th>\n",
       "      <td>0.004464</td>\n",
       "      <td>NaN</td>\n",
       "    </tr>\n",
       "    <tr>\n",
       "      <th>2014-06-02</th>\n",
       "      <td>0.005692</td>\n",
       "      <td>NaN</td>\n",
       "    </tr>\n",
       "    <tr>\n",
       "      <th>2014-06-03</th>\n",
       "      <td>0.005292</td>\n",
       "      <td>NaN</td>\n",
       "    </tr>\n",
       "  </tbody>\n",
       "</table>\n",
       "</div>"
      ],
      "text/plain": [
       "              Algo 1  Algo 2\n",
       "Date                        \n",
       "2014-05-28  0.001745     NaN\n",
       "2014-05-29  0.003978     NaN\n",
       "2014-05-30  0.004464     NaN\n",
       "2014-06-02  0.005692     NaN\n",
       "2014-06-03  0.005292     NaN"
      ]
     },
     "execution_count": 5,
     "metadata": {},
     "output_type": "execute_result"
    }
   ],
   "source": [
    "# Read in data\n",
    "csv_path2 =  Path(\"Starter_code/Resources/algo_returns.csv\")\n",
    "algo_returns = pd.read_csv(csv_path2, parse_dates=True, index_col='Date',infer_datetime_format=True)\n",
    "#algo_returns['row_number'] = algo_returns.reset_index().index\n",
    "algo_returns.head()\n",
    "# ,  index_col='Date'"
   ]
  },
  {
   "cell_type": "code",
   "execution_count": 6,
   "id": "ff6553b2-f542-4aad-bc58-a8b7e1b5324d",
   "metadata": {},
   "outputs": [
    {
     "data": {
      "text/html": [
       "<div>\n",
       "<style scoped>\n",
       "    .dataframe tbody tr th:only-of-type {\n",
       "        vertical-align: middle;\n",
       "    }\n",
       "\n",
       "    .dataframe tbody tr th {\n",
       "        vertical-align: top;\n",
       "    }\n",
       "\n",
       "    .dataframe thead th {\n",
       "        text-align: right;\n",
       "    }\n",
       "</style>\n",
       "<table border=\"1\" class=\"dataframe\">\n",
       "  <thead>\n",
       "    <tr style=\"text-align: right;\">\n",
       "      <th></th>\n",
       "      <th>Close</th>\n",
       "    </tr>\n",
       "    <tr>\n",
       "      <th>Date</th>\n",
       "      <th></th>\n",
       "    </tr>\n",
       "  </thead>\n",
       "  <tbody>\n",
       "    <tr>\n",
       "      <th>2012-10-01</th>\n",
       "      <td>$12,370.19</td>\n",
       "    </tr>\n",
       "    <tr>\n",
       "      <th>2012-10-02</th>\n",
       "      <td>$12,391.23</td>\n",
       "    </tr>\n",
       "    <tr>\n",
       "      <th>2012-10-03</th>\n",
       "      <td>$12,359.47</td>\n",
       "    </tr>\n",
       "    <tr>\n",
       "      <th>2012-10-04</th>\n",
       "      <td>$12,447.68</td>\n",
       "    </tr>\n",
       "    <tr>\n",
       "      <th>2012-10-05</th>\n",
       "      <td>$12,418.99</td>\n",
       "    </tr>\n",
       "    <tr>\n",
       "      <th>...</th>\n",
       "      <td>...</td>\n",
       "    </tr>\n",
       "    <tr>\n",
       "      <th>2019-12-20</th>\n",
       "      <td>$17,118.44</td>\n",
       "    </tr>\n",
       "    <tr>\n",
       "      <th>2019-12-23</th>\n",
       "      <td>$17,128.71</td>\n",
       "    </tr>\n",
       "    <tr>\n",
       "      <th>2019-12-24</th>\n",
       "      <td>$17,180.15</td>\n",
       "    </tr>\n",
       "    <tr>\n",
       "      <th>2019-12-27</th>\n",
       "      <td>$17,168.21</td>\n",
       "    </tr>\n",
       "    <tr>\n",
       "      <th>2019-12-30</th>\n",
       "      <td>$17,098.56</td>\n",
       "    </tr>\n",
       "  </tbody>\n",
       "</table>\n",
       "<p>1818 rows × 1 columns</p>\n",
       "</div>"
      ],
      "text/plain": [
       "                 Close\n",
       "Date                  \n",
       "2012-10-01  $12,370.19\n",
       "2012-10-02  $12,391.23\n",
       "2012-10-03  $12,359.47\n",
       "2012-10-04  $12,447.68\n",
       "2012-10-05  $12,418.99\n",
       "...                ...\n",
       "2019-12-20  $17,118.44\n",
       "2019-12-23  $17,128.71\n",
       "2019-12-24  $17,180.15\n",
       "2019-12-27  $17,168.21\n",
       "2019-12-30  $17,098.56\n",
       "\n",
       "[1818 rows x 1 columns]"
      ]
     },
     "execution_count": 6,
     "metadata": {},
     "output_type": "execute_result"
    }
   ],
   "source": [
    "# Read in data\n",
    "# parse_dates=True, index_col=\"Date\": to match the Date convention of the other data frames\n",
    "csv_path3 =  Path(\"Starter_code/Resources/sp_tsx_history.csv\")\n",
    "sp_tsx =  pd.read_csv(csv_path3, parse_dates=True, index_col=\"Date\", infer_datetime_format=True)\n",
    "#sp_tsx =  pd.read_csv(csv_path3, infer_datetime_format=True)\n",
    "#sp_tsx['row_number'] = sp_tsx.reset_index().index\n",
    "sp_tsx"
   ]
  },
  {
   "cell_type": "code",
   "execution_count": 7,
   "id": "337688dc-344e-44d4-9e7f-72640049b583",
   "metadata": {},
   "outputs": [
    {
     "data": {
      "text/plain": [
       "SOROS FUND MANAGEMENT LLC      1\n",
       "PAULSON & CO.INC.              1\n",
       "TIGER GLOBAL MANAGEMENT LLC    1\n",
       "BERKSHIRE HATHAWAY INC         1\n",
       "dtype: int64"
      ]
     },
     "execution_count": 7,
     "metadata": {},
     "output_type": "execute_result"
    }
   ],
   "source": [
    "# Identifying null values\n",
    "whale_returns.isnull().sum()"
   ]
  },
  {
   "cell_type": "code",
   "execution_count": 8,
   "id": "984801e7-7360-457d-83fd-bfc5349c3027",
   "metadata": {},
   "outputs": [
    {
     "data": {
      "text/html": [
       "<div>\n",
       "<style scoped>\n",
       "    .dataframe tbody tr th:only-of-type {\n",
       "        vertical-align: middle;\n",
       "    }\n",
       "\n",
       "    .dataframe tbody tr th {\n",
       "        vertical-align: top;\n",
       "    }\n",
       "\n",
       "    .dataframe thead th {\n",
       "        text-align: right;\n",
       "    }\n",
       "</style>\n",
       "<table border=\"1\" class=\"dataframe\">\n",
       "  <thead>\n",
       "    <tr style=\"text-align: right;\">\n",
       "      <th></th>\n",
       "      <th>SOROS FUND MANAGEMENT LLC</th>\n",
       "      <th>PAULSON &amp; CO.INC.</th>\n",
       "      <th>TIGER GLOBAL MANAGEMENT LLC</th>\n",
       "      <th>BERKSHIRE HATHAWAY INC</th>\n",
       "    </tr>\n",
       "    <tr>\n",
       "      <th>Date</th>\n",
       "      <th></th>\n",
       "      <th></th>\n",
       "      <th></th>\n",
       "      <th></th>\n",
       "    </tr>\n",
       "  </thead>\n",
       "  <tbody>\n",
       "    <tr>\n",
       "      <th>2015-03-03</th>\n",
       "      <td>-0.001266</td>\n",
       "      <td>-0.004981</td>\n",
       "      <td>-0.000496</td>\n",
       "      <td>-0.006569</td>\n",
       "    </tr>\n",
       "    <tr>\n",
       "      <th>2015-03-04</th>\n",
       "      <td>0.002230</td>\n",
       "      <td>0.003241</td>\n",
       "      <td>-0.002534</td>\n",
       "      <td>0.004213</td>\n",
       "    </tr>\n",
       "    <tr>\n",
       "      <th>2015-03-05</th>\n",
       "      <td>0.004016</td>\n",
       "      <td>0.004076</td>\n",
       "      <td>0.002355</td>\n",
       "      <td>0.006726</td>\n",
       "    </tr>\n",
       "    <tr>\n",
       "      <th>2015-03-06</th>\n",
       "      <td>-0.007905</td>\n",
       "      <td>-0.003574</td>\n",
       "      <td>-0.008481</td>\n",
       "      <td>-0.013098</td>\n",
       "    </tr>\n",
       "    <tr>\n",
       "      <th>2015-03-09</th>\n",
       "      <td>0.000582</td>\n",
       "      <td>0.004225</td>\n",
       "      <td>0.005843</td>\n",
       "      <td>-0.001652</td>\n",
       "    </tr>\n",
       "    <tr>\n",
       "      <th>...</th>\n",
       "      <td>...</td>\n",
       "      <td>...</td>\n",
       "      <td>...</td>\n",
       "      <td>...</td>\n",
       "    </tr>\n",
       "    <tr>\n",
       "      <th>2019-04-25</th>\n",
       "      <td>-0.000285</td>\n",
       "      <td>-0.001291</td>\n",
       "      <td>-0.005153</td>\n",
       "      <td>0.004848</td>\n",
       "    </tr>\n",
       "    <tr>\n",
       "      <th>2019-04-26</th>\n",
       "      <td>0.008149</td>\n",
       "      <td>0.009162</td>\n",
       "      <td>0.012355</td>\n",
       "      <td>0.010434</td>\n",
       "    </tr>\n",
       "    <tr>\n",
       "      <th>2019-04-29</th>\n",
       "      <td>0.001254</td>\n",
       "      <td>0.002719</td>\n",
       "      <td>0.006251</td>\n",
       "      <td>0.005223</td>\n",
       "    </tr>\n",
       "    <tr>\n",
       "      <th>2019-04-30</th>\n",
       "      <td>-0.001295</td>\n",
       "      <td>-0.002211</td>\n",
       "      <td>-0.000259</td>\n",
       "      <td>-0.003702</td>\n",
       "    </tr>\n",
       "    <tr>\n",
       "      <th>2019-05-01</th>\n",
       "      <td>-0.005847</td>\n",
       "      <td>-0.001341</td>\n",
       "      <td>-0.007936</td>\n",
       "      <td>-0.007833</td>\n",
       "    </tr>\n",
       "  </tbody>\n",
       "</table>\n",
       "<p>1059 rows × 4 columns</p>\n",
       "</div>"
      ],
      "text/plain": [
       "            SOROS FUND MANAGEMENT LLC  PAULSON & CO.INC.   \\\n",
       "Date                                                        \n",
       "2015-03-03                  -0.001266           -0.004981   \n",
       "2015-03-04                   0.002230            0.003241   \n",
       "2015-03-05                   0.004016            0.004076   \n",
       "2015-03-06                  -0.007905           -0.003574   \n",
       "2015-03-09                   0.000582            0.004225   \n",
       "...                               ...                 ...   \n",
       "2019-04-25                  -0.000285           -0.001291   \n",
       "2019-04-26                   0.008149            0.009162   \n",
       "2019-04-29                   0.001254            0.002719   \n",
       "2019-04-30                  -0.001295           -0.002211   \n",
       "2019-05-01                  -0.005847           -0.001341   \n",
       "\n",
       "            TIGER GLOBAL MANAGEMENT LLC  BERKSHIRE HATHAWAY INC  \n",
       "Date                                                             \n",
       "2015-03-03                    -0.000496               -0.006569  \n",
       "2015-03-04                    -0.002534                0.004213  \n",
       "2015-03-05                     0.002355                0.006726  \n",
       "2015-03-06                    -0.008481               -0.013098  \n",
       "2015-03-09                     0.005843               -0.001652  \n",
       "...                                 ...                     ...  \n",
       "2019-04-25                    -0.005153                0.004848  \n",
       "2019-04-26                     0.012355                0.010434  \n",
       "2019-04-29                     0.006251                0.005223  \n",
       "2019-04-30                    -0.000259               -0.003702  \n",
       "2019-05-01                    -0.007936               -0.007833  \n",
       "\n",
       "[1059 rows x 4 columns]"
      ]
     },
     "execution_count": 8,
     "metadata": {},
     "output_type": "execute_result"
    }
   ],
   "source": [
    "#Dropping null values in a copy of the original data frame to not alter it\n",
    "\n",
    "whale_returns2 = whale_returns.dropna().copy() \n",
    "whale_returns2"
   ]
  },
  {
   "cell_type": "code",
   "execution_count": 9,
   "id": "800dbc99-357e-4c19-bca7-4380d211622b",
   "metadata": {},
   "outputs": [
    {
     "data": {
      "text/plain": [
       "Algo 1    0\n",
       "Algo 2    6\n",
       "dtype: int64"
      ]
     },
     "execution_count": 9,
     "metadata": {},
     "output_type": "execute_result"
    }
   ],
   "source": [
    "# Identifying null values\n",
    "algo_returns.isnull().sum()"
   ]
  },
  {
   "cell_type": "code",
   "execution_count": 10,
   "id": "4f869ea5-b26c-4f0a-a486-682475e6f696",
   "metadata": {},
   "outputs": [
    {
     "data": {
      "text/html": [
       "<div>\n",
       "<style scoped>\n",
       "    .dataframe tbody tr th:only-of-type {\n",
       "        vertical-align: middle;\n",
       "    }\n",
       "\n",
       "    .dataframe tbody tr th {\n",
       "        vertical-align: top;\n",
       "    }\n",
       "\n",
       "    .dataframe thead th {\n",
       "        text-align: right;\n",
       "    }\n",
       "</style>\n",
       "<table border=\"1\" class=\"dataframe\">\n",
       "  <thead>\n",
       "    <tr style=\"text-align: right;\">\n",
       "      <th></th>\n",
       "      <th>Algo 1</th>\n",
       "      <th>Algo 2</th>\n",
       "    </tr>\n",
       "    <tr>\n",
       "      <th>Date</th>\n",
       "      <th></th>\n",
       "      <th></th>\n",
       "    </tr>\n",
       "  </thead>\n",
       "  <tbody>\n",
       "    <tr>\n",
       "      <th>2014-06-05</th>\n",
       "      <td>0.004062</td>\n",
       "      <td>0.013285</td>\n",
       "    </tr>\n",
       "    <tr>\n",
       "      <th>2014-06-06</th>\n",
       "      <td>0.001857</td>\n",
       "      <td>0.008284</td>\n",
       "    </tr>\n",
       "    <tr>\n",
       "      <th>2014-06-09</th>\n",
       "      <td>-0.005012</td>\n",
       "      <td>0.005668</td>\n",
       "    </tr>\n",
       "    <tr>\n",
       "      <th>2014-06-10</th>\n",
       "      <td>0.004406</td>\n",
       "      <td>-0.000735</td>\n",
       "    </tr>\n",
       "    <tr>\n",
       "      <th>2014-06-11</th>\n",
       "      <td>0.004760</td>\n",
       "      <td>-0.003761</td>\n",
       "    </tr>\n",
       "    <tr>\n",
       "      <th>...</th>\n",
       "      <td>...</td>\n",
       "      <td>...</td>\n",
       "    </tr>\n",
       "    <tr>\n",
       "      <th>2019-04-25</th>\n",
       "      <td>0.000682</td>\n",
       "      <td>-0.007247</td>\n",
       "    </tr>\n",
       "    <tr>\n",
       "      <th>2019-04-26</th>\n",
       "      <td>0.002981</td>\n",
       "      <td>0.005256</td>\n",
       "    </tr>\n",
       "    <tr>\n",
       "      <th>2019-04-29</th>\n",
       "      <td>0.005208</td>\n",
       "      <td>0.002829</td>\n",
       "    </tr>\n",
       "    <tr>\n",
       "      <th>2019-04-30</th>\n",
       "      <td>-0.002944</td>\n",
       "      <td>-0.001570</td>\n",
       "    </tr>\n",
       "    <tr>\n",
       "      <th>2019-05-01</th>\n",
       "      <td>0.000094</td>\n",
       "      <td>-0.007358</td>\n",
       "    </tr>\n",
       "  </tbody>\n",
       "</table>\n",
       "<p>1235 rows × 2 columns</p>\n",
       "</div>"
      ],
      "text/plain": [
       "              Algo 1    Algo 2\n",
       "Date                          \n",
       "2014-06-05  0.004062  0.013285\n",
       "2014-06-06  0.001857  0.008284\n",
       "2014-06-09 -0.005012  0.005668\n",
       "2014-06-10  0.004406 -0.000735\n",
       "2014-06-11  0.004760 -0.003761\n",
       "...              ...       ...\n",
       "2019-04-25  0.000682 -0.007247\n",
       "2019-04-26  0.002981  0.005256\n",
       "2019-04-29  0.005208  0.002829\n",
       "2019-04-30 -0.002944 -0.001570\n",
       "2019-05-01  0.000094 -0.007358\n",
       "\n",
       "[1235 rows x 2 columns]"
      ]
     },
     "execution_count": 10,
     "metadata": {},
     "output_type": "execute_result"
    }
   ],
   "source": [
    "#Dropping null values in a copy of the original data frame to not alter it\n",
    "algo_returns2 = algo_returns.dropna().copy() \n",
    "algo_returns2"
   ]
  },
  {
   "cell_type": "code",
   "execution_count": 11,
   "id": "2c5ebf2e-af21-4d96-aac2-66f9bb5a3dd9",
   "metadata": {},
   "outputs": [
    {
     "data": {
      "text/plain": [
       "Close    0\n",
       "dtype: int64"
      ]
     },
     "execution_count": 11,
     "metadata": {},
     "output_type": "execute_result"
    }
   ],
   "source": [
    "# Identifying null values\n",
    "sp_tsx.isnull().sum()"
   ]
  },
  {
   "cell_type": "code",
   "execution_count": 12,
   "id": "174c31e0-4e59-4766-a79e-3e18cd43ac4a",
   "metadata": {},
   "outputs": [
    {
     "data": {
      "text/html": [
       "<div>\n",
       "<style scoped>\n",
       "    .dataframe tbody tr th:only-of-type {\n",
       "        vertical-align: middle;\n",
       "    }\n",
       "\n",
       "    .dataframe tbody tr th {\n",
       "        vertical-align: top;\n",
       "    }\n",
       "\n",
       "    .dataframe thead th {\n",
       "        text-align: right;\n",
       "    }\n",
       "</style>\n",
       "<table border=\"1\" class=\"dataframe\">\n",
       "  <thead>\n",
       "    <tr style=\"text-align: right;\">\n",
       "      <th></th>\n",
       "      <th>Close</th>\n",
       "    </tr>\n",
       "    <tr>\n",
       "      <th>Date</th>\n",
       "      <th></th>\n",
       "    </tr>\n",
       "  </thead>\n",
       "  <tbody>\n",
       "    <tr>\n",
       "      <th>2012-10-01</th>\n",
       "      <td>$12,370.19</td>\n",
       "    </tr>\n",
       "    <tr>\n",
       "      <th>2012-10-02</th>\n",
       "      <td>$12,391.23</td>\n",
       "    </tr>\n",
       "    <tr>\n",
       "      <th>2012-10-03</th>\n",
       "      <td>$12,359.47</td>\n",
       "    </tr>\n",
       "    <tr>\n",
       "      <th>2012-10-04</th>\n",
       "      <td>$12,447.68</td>\n",
       "    </tr>\n",
       "    <tr>\n",
       "      <th>2012-10-05</th>\n",
       "      <td>$12,418.99</td>\n",
       "    </tr>\n",
       "    <tr>\n",
       "      <th>...</th>\n",
       "      <td>...</td>\n",
       "    </tr>\n",
       "    <tr>\n",
       "      <th>2019-12-20</th>\n",
       "      <td>$17,118.44</td>\n",
       "    </tr>\n",
       "    <tr>\n",
       "      <th>2019-12-23</th>\n",
       "      <td>$17,128.71</td>\n",
       "    </tr>\n",
       "    <tr>\n",
       "      <th>2019-12-24</th>\n",
       "      <td>$17,180.15</td>\n",
       "    </tr>\n",
       "    <tr>\n",
       "      <th>2019-12-27</th>\n",
       "      <td>$17,168.21</td>\n",
       "    </tr>\n",
       "    <tr>\n",
       "      <th>2019-12-30</th>\n",
       "      <td>$17,098.56</td>\n",
       "    </tr>\n",
       "  </tbody>\n",
       "</table>\n",
       "<p>1818 rows × 1 columns</p>\n",
       "</div>"
      ],
      "text/plain": [
       "                 Close\n",
       "Date                  \n",
       "2012-10-01  $12,370.19\n",
       "2012-10-02  $12,391.23\n",
       "2012-10-03  $12,359.47\n",
       "2012-10-04  $12,447.68\n",
       "2012-10-05  $12,418.99\n",
       "...                ...\n",
       "2019-12-20  $17,118.44\n",
       "2019-12-23  $17,128.71\n",
       "2019-12-24  $17,180.15\n",
       "2019-12-27  $17,168.21\n",
       "2019-12-30  $17,098.56\n",
       "\n",
       "[1818 rows x 1 columns]"
      ]
     },
     "execution_count": 12,
     "metadata": {},
     "output_type": "execute_result"
    }
   ],
   "source": [
    "#Dropping null values in a copy of the original data frame to not alter it\n",
    "\n",
    "sp_tsx2 = sp_tsx.dropna().copy() \n",
    "sp_tsx2"
   ]
  },
  {
   "cell_type": "code",
   "execution_count": 13,
   "id": "697dcb10-8066-4b94-a89e-e4d614c8f08c",
   "metadata": {},
   "outputs": [
    {
     "ename": "SyntaxError",
     "evalue": "invalid syntax (2953675299.py, line 1)",
     "output_type": "error",
     "traceback": [
      "\u001b[1;36m  Cell \u001b[1;32mIn[13], line 1\u001b[1;36m\u001b[0m\n\u001b[1;33m    Remove any non-numeric values (e.g., dollar signs) from the DataFrames and convert the data types as needed.\u001b[0m\n\u001b[1;37m           ^\u001b[0m\n\u001b[1;31mSyntaxError\u001b[0m\u001b[1;31m:\u001b[0m invalid syntax\n"
     ]
    }
   ],
   "source": [
    "\n",
    "Remove any non-numeric values (e.g., dollar signs) from the DataFrames and convert the data types as needed.\n",
    "\n",
    "The whale portfolios and algorithmic portfolio CSV files contain daily returns, but the S&P TSX 60 CSV file contains closing prices. Convert the S&P TSX 60 closing prices to daily returns.\n"
   ]
  },
  {
   "cell_type": "code",
   "execution_count": 14,
   "id": "4bc27b70-0421-47f0-a65b-cf02f8d1bbc7",
   "metadata": {},
   "outputs": [
    {
     "data": {
      "text/plain": [
       "SOROS FUND MANAGEMENT LLC      float64\n",
       "PAULSON & CO.INC.              float64\n",
       "TIGER GLOBAL MANAGEMENT LLC    float64\n",
       "BERKSHIRE HATHAWAY INC         float64\n",
       "dtype: object"
      ]
     },
     "execution_count": 14,
     "metadata": {},
     "output_type": "execute_result"
    }
   ],
   "source": [
    "#checking data types\n",
    "whale_returns2.dtypes"
   ]
  },
  {
   "cell_type": "code",
   "execution_count": 15,
   "id": "7e23dae8-30c1-4ca7-910b-eab0ce1595ec",
   "metadata": {},
   "outputs": [
    {
     "data": {
      "text/plain": [
       "Algo 1    float64\n",
       "Algo 2    float64\n",
       "dtype: object"
      ]
     },
     "execution_count": 15,
     "metadata": {},
     "output_type": "execute_result"
    }
   ],
   "source": [
    "#checking data types\n",
    "algo_returns2.dtypes"
   ]
  },
  {
   "cell_type": "code",
   "execution_count": 16,
   "id": "2785ce5b-8ba4-4d57-be0e-f88e20cd9746",
   "metadata": {},
   "outputs": [
    {
     "data": {
      "text/plain": [
       "Close    object\n",
       "dtype: object"
      ]
     },
     "execution_count": 16,
     "metadata": {},
     "output_type": "execute_result"
    }
   ],
   "source": [
    "#checking data types\n",
    "sp_tsx2.dtypes\n",
    "# we need to change the Close data type from object to numeric"
   ]
  },
  {
   "cell_type": "code",
   "execution_count": 17,
   "id": "4b13501c-ece6-4d80-b3f5-9e77c3ee436e",
   "metadata": {},
   "outputs": [
    {
     "data": {
      "text/html": [
       "<div>\n",
       "<style scoped>\n",
       "    .dataframe tbody tr th:only-of-type {\n",
       "        vertical-align: middle;\n",
       "    }\n",
       "\n",
       "    .dataframe tbody tr th {\n",
       "        vertical-align: top;\n",
       "    }\n",
       "\n",
       "    .dataframe thead th {\n",
       "        text-align: right;\n",
       "    }\n",
       "</style>\n",
       "<table border=\"1\" class=\"dataframe\">\n",
       "  <thead>\n",
       "    <tr style=\"text-align: right;\">\n",
       "      <th></th>\n",
       "      <th>Close</th>\n",
       "    </tr>\n",
       "    <tr>\n",
       "      <th>Date</th>\n",
       "      <th></th>\n",
       "    </tr>\n",
       "  </thead>\n",
       "  <tbody>\n",
       "    <tr>\n",
       "      <th>2012-10-01</th>\n",
       "      <td>12,370.19</td>\n",
       "    </tr>\n",
       "    <tr>\n",
       "      <th>2012-10-02</th>\n",
       "      <td>12,391.23</td>\n",
       "    </tr>\n",
       "    <tr>\n",
       "      <th>2012-10-03</th>\n",
       "      <td>12,359.47</td>\n",
       "    </tr>\n",
       "    <tr>\n",
       "      <th>2012-10-04</th>\n",
       "      <td>12,447.68</td>\n",
       "    </tr>\n",
       "    <tr>\n",
       "      <th>2012-10-05</th>\n",
       "      <td>12,418.99</td>\n",
       "    </tr>\n",
       "    <tr>\n",
       "      <th>...</th>\n",
       "      <td>...</td>\n",
       "    </tr>\n",
       "    <tr>\n",
       "      <th>2019-12-20</th>\n",
       "      <td>17,118.44</td>\n",
       "    </tr>\n",
       "    <tr>\n",
       "      <th>2019-12-23</th>\n",
       "      <td>17,128.71</td>\n",
       "    </tr>\n",
       "    <tr>\n",
       "      <th>2019-12-24</th>\n",
       "      <td>17,180.15</td>\n",
       "    </tr>\n",
       "    <tr>\n",
       "      <th>2019-12-27</th>\n",
       "      <td>17,168.21</td>\n",
       "    </tr>\n",
       "    <tr>\n",
       "      <th>2019-12-30</th>\n",
       "      <td>17,098.56</td>\n",
       "    </tr>\n",
       "  </tbody>\n",
       "</table>\n",
       "<p>1818 rows × 1 columns</p>\n",
       "</div>"
      ],
      "text/plain": [
       "                Close\n",
       "Date                 \n",
       "2012-10-01  12,370.19\n",
       "2012-10-02  12,391.23\n",
       "2012-10-03  12,359.47\n",
       "2012-10-04  12,447.68\n",
       "2012-10-05  12,418.99\n",
       "...               ...\n",
       "2019-12-20  17,118.44\n",
       "2019-12-23  17,128.71\n",
       "2019-12-24  17,180.15\n",
       "2019-12-27  17,168.21\n",
       "2019-12-30  17,098.56\n",
       "\n",
       "[1818 rows x 1 columns]"
      ]
     },
     "execution_count": 17,
     "metadata": {},
     "output_type": "execute_result"
    }
   ],
   "source": [
    "# removing $ sign from Close column\n",
    "sp_tsx2[\"Close\"] = sp_tsx2[\"Close\"].str.strip(\"$\")\n",
    "sp_tsx2"
   ]
  },
  {
   "cell_type": "code",
   "execution_count": 18,
   "id": "cde6ea93-247a-47ce-bef9-45ae5b8a02ed",
   "metadata": {},
   "outputs": [
    {
     "data": {
      "text/html": [
       "<div>\n",
       "<style scoped>\n",
       "    .dataframe tbody tr th:only-of-type {\n",
       "        vertical-align: middle;\n",
       "    }\n",
       "\n",
       "    .dataframe tbody tr th {\n",
       "        vertical-align: top;\n",
       "    }\n",
       "\n",
       "    .dataframe thead th {\n",
       "        text-align: right;\n",
       "    }\n",
       "</style>\n",
       "<table border=\"1\" class=\"dataframe\">\n",
       "  <thead>\n",
       "    <tr style=\"text-align: right;\">\n",
       "      <th></th>\n",
       "      <th>Close</th>\n",
       "    </tr>\n",
       "    <tr>\n",
       "      <th>Date</th>\n",
       "      <th></th>\n",
       "    </tr>\n",
       "  </thead>\n",
       "  <tbody>\n",
       "    <tr>\n",
       "      <th>2012-10-01</th>\n",
       "      <td>12370.19</td>\n",
       "    </tr>\n",
       "    <tr>\n",
       "      <th>2012-10-02</th>\n",
       "      <td>12391.23</td>\n",
       "    </tr>\n",
       "    <tr>\n",
       "      <th>2012-10-03</th>\n",
       "      <td>12359.47</td>\n",
       "    </tr>\n",
       "    <tr>\n",
       "      <th>2012-10-04</th>\n",
       "      <td>12447.68</td>\n",
       "    </tr>\n",
       "    <tr>\n",
       "      <th>2012-10-05</th>\n",
       "      <td>12418.99</td>\n",
       "    </tr>\n",
       "    <tr>\n",
       "      <th>...</th>\n",
       "      <td>...</td>\n",
       "    </tr>\n",
       "    <tr>\n",
       "      <th>2019-12-20</th>\n",
       "      <td>17118.44</td>\n",
       "    </tr>\n",
       "    <tr>\n",
       "      <th>2019-12-23</th>\n",
       "      <td>17128.71</td>\n",
       "    </tr>\n",
       "    <tr>\n",
       "      <th>2019-12-24</th>\n",
       "      <td>17180.15</td>\n",
       "    </tr>\n",
       "    <tr>\n",
       "      <th>2019-12-27</th>\n",
       "      <td>17168.21</td>\n",
       "    </tr>\n",
       "    <tr>\n",
       "      <th>2019-12-30</th>\n",
       "      <td>17098.56</td>\n",
       "    </tr>\n",
       "  </tbody>\n",
       "</table>\n",
       "<p>1818 rows × 1 columns</p>\n",
       "</div>"
      ],
      "text/plain": [
       "               Close\n",
       "Date                \n",
       "2012-10-01  12370.19\n",
       "2012-10-02  12391.23\n",
       "2012-10-03  12359.47\n",
       "2012-10-04  12447.68\n",
       "2012-10-05  12418.99\n",
       "...              ...\n",
       "2019-12-20  17118.44\n",
       "2019-12-23  17128.71\n",
       "2019-12-24  17180.15\n",
       "2019-12-27  17168.21\n",
       "2019-12-30  17098.56\n",
       "\n",
       "[1818 rows x 1 columns]"
      ]
     },
     "execution_count": 18,
     "metadata": {},
     "output_type": "execute_result"
    }
   ],
   "source": [
    "# removing commas, with commas it's impossible to convert to numeric type\n",
    "sp_tsx2 = sp_tsx2.replace(',','', regex=True)\n",
    "sp_tsx2"
   ]
  },
  {
   "cell_type": "code",
   "execution_count": 19,
   "id": "71611f0c-6112-4399-b8ce-4ea16ba79e13",
   "metadata": {},
   "outputs": [
    {
     "data": {
      "text/html": [
       "<div>\n",
       "<style scoped>\n",
       "    .dataframe tbody tr th:only-of-type {\n",
       "        vertical-align: middle;\n",
       "    }\n",
       "\n",
       "    .dataframe tbody tr th {\n",
       "        vertical-align: top;\n",
       "    }\n",
       "\n",
       "    .dataframe thead th {\n",
       "        text-align: right;\n",
       "    }\n",
       "</style>\n",
       "<table border=\"1\" class=\"dataframe\">\n",
       "  <thead>\n",
       "    <tr style=\"text-align: right;\">\n",
       "      <th></th>\n",
       "      <th>Close</th>\n",
       "    </tr>\n",
       "    <tr>\n",
       "      <th>Date</th>\n",
       "      <th></th>\n",
       "    </tr>\n",
       "  </thead>\n",
       "  <tbody>\n",
       "    <tr>\n",
       "      <th>2012-10-01</th>\n",
       "      <td>12370.19</td>\n",
       "    </tr>\n",
       "    <tr>\n",
       "      <th>2012-10-02</th>\n",
       "      <td>12391.23</td>\n",
       "    </tr>\n",
       "    <tr>\n",
       "      <th>2012-10-03</th>\n",
       "      <td>12359.47</td>\n",
       "    </tr>\n",
       "    <tr>\n",
       "      <th>2012-10-04</th>\n",
       "      <td>12447.68</td>\n",
       "    </tr>\n",
       "    <tr>\n",
       "      <th>2012-10-05</th>\n",
       "      <td>12418.99</td>\n",
       "    </tr>\n",
       "    <tr>\n",
       "      <th>...</th>\n",
       "      <td>...</td>\n",
       "    </tr>\n",
       "    <tr>\n",
       "      <th>2019-12-20</th>\n",
       "      <td>17118.44</td>\n",
       "    </tr>\n",
       "    <tr>\n",
       "      <th>2019-12-23</th>\n",
       "      <td>17128.71</td>\n",
       "    </tr>\n",
       "    <tr>\n",
       "      <th>2019-12-24</th>\n",
       "      <td>17180.15</td>\n",
       "    </tr>\n",
       "    <tr>\n",
       "      <th>2019-12-27</th>\n",
       "      <td>17168.21</td>\n",
       "    </tr>\n",
       "    <tr>\n",
       "      <th>2019-12-30</th>\n",
       "      <td>17098.56</td>\n",
       "    </tr>\n",
       "  </tbody>\n",
       "</table>\n",
       "<p>1818 rows × 1 columns</p>\n",
       "</div>"
      ],
      "text/plain": [
       "               Close\n",
       "Date                \n",
       "2012-10-01  12370.19\n",
       "2012-10-02  12391.23\n",
       "2012-10-03  12359.47\n",
       "2012-10-04  12447.68\n",
       "2012-10-05  12418.99\n",
       "...              ...\n",
       "2019-12-20  17118.44\n",
       "2019-12-23  17128.71\n",
       "2019-12-24  17180.15\n",
       "2019-12-27  17168.21\n",
       "2019-12-30  17098.56\n",
       "\n",
       "[1818 rows x 1 columns]"
      ]
     },
     "execution_count": 19,
     "metadata": {},
     "output_type": "execute_result"
    }
   ],
   "source": [
    "# converting Close column to numeric type\n",
    "sp_tsx2[\"Close\"] = pd.to_numeric(sp_tsx2[\"Close\"])\n",
    "sp_tsx2"
   ]
  },
  {
   "cell_type": "code",
   "execution_count": 20,
   "id": "bc12b8b0-521f-4cd4-a136-03930e6888c4",
   "metadata": {},
   "outputs": [],
   "source": [
    "#The whale portfolios and algorithmic portfolio CSV files contain daily returns, but the S&P TSX 60 CSV file contains closing prices. Convert the S&P TSX 60 closing prices to daily returns.\n",
    "#1. create column daily returns\n",
    "#2. input formula pct.change()\n",
    "\n"
   ]
  },
  {
   "cell_type": "code",
   "execution_count": 21,
   "id": "ca6b8ec7-5c4d-45e5-9c6e-2722503b0935",
   "metadata": {},
   "outputs": [
    {
     "data": {
      "text/html": [
       "<div>\n",
       "<style scoped>\n",
       "    .dataframe tbody tr th:only-of-type {\n",
       "        vertical-align: middle;\n",
       "    }\n",
       "\n",
       "    .dataframe tbody tr th {\n",
       "        vertical-align: top;\n",
       "    }\n",
       "\n",
       "    .dataframe thead th {\n",
       "        text-align: right;\n",
       "    }\n",
       "</style>\n",
       "<table border=\"1\" class=\"dataframe\">\n",
       "  <thead>\n",
       "    <tr style=\"text-align: right;\">\n",
       "      <th></th>\n",
       "      <th>Close</th>\n",
       "    </tr>\n",
       "    <tr>\n",
       "      <th>Date</th>\n",
       "      <th></th>\n",
       "    </tr>\n",
       "  </thead>\n",
       "  <tbody>\n",
       "    <tr>\n",
       "      <th>2012-10-01</th>\n",
       "      <td>NaN</td>\n",
       "    </tr>\n",
       "    <tr>\n",
       "      <th>2012-10-02</th>\n",
       "      <td>0.001701</td>\n",
       "    </tr>\n",
       "    <tr>\n",
       "      <th>2012-10-03</th>\n",
       "      <td>-0.002563</td>\n",
       "    </tr>\n",
       "    <tr>\n",
       "      <th>2012-10-04</th>\n",
       "      <td>0.007137</td>\n",
       "    </tr>\n",
       "    <tr>\n",
       "      <th>2012-10-05</th>\n",
       "      <td>-0.002305</td>\n",
       "    </tr>\n",
       "    <tr>\n",
       "      <th>...</th>\n",
       "      <td>...</td>\n",
       "    </tr>\n",
       "    <tr>\n",
       "      <th>2019-12-20</th>\n",
       "      <td>0.003188</td>\n",
       "    </tr>\n",
       "    <tr>\n",
       "      <th>2019-12-23</th>\n",
       "      <td>0.000600</td>\n",
       "    </tr>\n",
       "    <tr>\n",
       "      <th>2019-12-24</th>\n",
       "      <td>0.003003</td>\n",
       "    </tr>\n",
       "    <tr>\n",
       "      <th>2019-12-27</th>\n",
       "      <td>-0.000695</td>\n",
       "    </tr>\n",
       "    <tr>\n",
       "      <th>2019-12-30</th>\n",
       "      <td>-0.004057</td>\n",
       "    </tr>\n",
       "  </tbody>\n",
       "</table>\n",
       "<p>1818 rows × 1 columns</p>\n",
       "</div>"
      ],
      "text/plain": [
       "               Close\n",
       "Date                \n",
       "2012-10-01       NaN\n",
       "2012-10-02  0.001701\n",
       "2012-10-03 -0.002563\n",
       "2012-10-04  0.007137\n",
       "2012-10-05 -0.002305\n",
       "...              ...\n",
       "2019-12-20  0.003188\n",
       "2019-12-23  0.000600\n",
       "2019-12-24  0.003003\n",
       "2019-12-27 -0.000695\n",
       "2019-12-30 -0.004057\n",
       "\n",
       "[1818 rows x 1 columns]"
      ]
     },
     "execution_count": 21,
     "metadata": {},
     "output_type": "execute_result"
    }
   ],
   "source": [
    "sp_tsx2.pct_change()"
   ]
  },
  {
   "cell_type": "code",
   "execution_count": 22,
   "id": "cb31eb34-d8af-4cea-879a-00d6d6caa2b1",
   "metadata": {},
   "outputs": [
    {
     "data": {
      "text/html": [
       "<div>\n",
       "<style scoped>\n",
       "    .dataframe tbody tr th:only-of-type {\n",
       "        vertical-align: middle;\n",
       "    }\n",
       "\n",
       "    .dataframe tbody tr th {\n",
       "        vertical-align: top;\n",
       "    }\n",
       "\n",
       "    .dataframe thead th {\n",
       "        text-align: right;\n",
       "    }\n",
       "</style>\n",
       "<table border=\"1\" class=\"dataframe\">\n",
       "  <thead>\n",
       "    <tr style=\"text-align: right;\">\n",
       "      <th></th>\n",
       "      <th>Close</th>\n",
       "      <th>S&amp;P TSX</th>\n",
       "    </tr>\n",
       "    <tr>\n",
       "      <th>Date</th>\n",
       "      <th></th>\n",
       "      <th></th>\n",
       "    </tr>\n",
       "  </thead>\n",
       "  <tbody>\n",
       "    <tr>\n",
       "      <th>2012-10-01</th>\n",
       "      <td>12370.19</td>\n",
       "      <td>NaN</td>\n",
       "    </tr>\n",
       "    <tr>\n",
       "      <th>2012-10-02</th>\n",
       "      <td>12391.23</td>\n",
       "      <td>0.001701</td>\n",
       "    </tr>\n",
       "    <tr>\n",
       "      <th>2012-10-03</th>\n",
       "      <td>12359.47</td>\n",
       "      <td>-0.002563</td>\n",
       "    </tr>\n",
       "    <tr>\n",
       "      <th>2012-10-04</th>\n",
       "      <td>12447.68</td>\n",
       "      <td>0.007137</td>\n",
       "    </tr>\n",
       "    <tr>\n",
       "      <th>2012-10-05</th>\n",
       "      <td>12418.99</td>\n",
       "      <td>-0.002305</td>\n",
       "    </tr>\n",
       "    <tr>\n",
       "      <th>...</th>\n",
       "      <td>...</td>\n",
       "      <td>...</td>\n",
       "    </tr>\n",
       "    <tr>\n",
       "      <th>2019-12-20</th>\n",
       "      <td>17118.44</td>\n",
       "      <td>0.003188</td>\n",
       "    </tr>\n",
       "    <tr>\n",
       "      <th>2019-12-23</th>\n",
       "      <td>17128.71</td>\n",
       "      <td>0.000600</td>\n",
       "    </tr>\n",
       "    <tr>\n",
       "      <th>2019-12-24</th>\n",
       "      <td>17180.15</td>\n",
       "      <td>0.003003</td>\n",
       "    </tr>\n",
       "    <tr>\n",
       "      <th>2019-12-27</th>\n",
       "      <td>17168.21</td>\n",
       "      <td>-0.000695</td>\n",
       "    </tr>\n",
       "    <tr>\n",
       "      <th>2019-12-30</th>\n",
       "      <td>17098.56</td>\n",
       "      <td>-0.004057</td>\n",
       "    </tr>\n",
       "  </tbody>\n",
       "</table>\n",
       "<p>1818 rows × 2 columns</p>\n",
       "</div>"
      ],
      "text/plain": [
       "               Close   S&P TSX\n",
       "Date                          \n",
       "2012-10-01  12370.19       NaN\n",
       "2012-10-02  12391.23  0.001701\n",
       "2012-10-03  12359.47 -0.002563\n",
       "2012-10-04  12447.68  0.007137\n",
       "2012-10-05  12418.99 -0.002305\n",
       "...              ...       ...\n",
       "2019-12-20  17118.44  0.003188\n",
       "2019-12-23  17128.71  0.000600\n",
       "2019-12-24  17180.15  0.003003\n",
       "2019-12-27  17168.21 -0.000695\n",
       "2019-12-30  17098.56 -0.004057\n",
       "\n",
       "[1818 rows x 2 columns]"
      ]
     },
     "execution_count": 22,
     "metadata": {},
     "output_type": "execute_result"
    }
   ],
   "source": [
    "# calculating daily returns with pct_chane() function and inputing result in the Daily Returns column, since we only have the Close column it will automaticcaly calculate daily returns from it no need ot do anything additional\n",
    "sp_tsx2[\"S&P TSX\"] = sp_tsx2.pct_change()\n",
    "sp_tsx2\n"
   ]
  },
  {
   "cell_type": "code",
   "execution_count": 23,
   "id": "2232cd0e-dade-48ca-b92c-441b81a5a4d9",
   "metadata": {},
   "outputs": [
    {
     "ename": "NameError",
     "evalue": "name 'df_portfolio_year' is not defined",
     "output_type": "error",
     "traceback": [
      "\u001b[1;31m---------------------------------------------------------------------------\u001b[0m",
      "\u001b[1;31mNameError\u001b[0m                                 Traceback (most recent call last)",
      "Cell \u001b[1;32mIn[23], line 2\u001b[0m\n\u001b[0;32m      1\u001b[0m \u001b[38;5;66;03m# Separate ticker data\u001b[39;00m\n\u001b[1;32m----> 2\u001b[0m FB \u001b[38;5;241m=\u001b[39m \u001b[43mdf_portfolio_year\u001b[49m[df_portfolio_year[\u001b[38;5;124m'\u001b[39m\u001b[38;5;124msymbol\u001b[39m\u001b[38;5;124m'\u001b[39m]\u001b[38;5;241m==\u001b[39m\u001b[38;5;124m'\u001b[39m\u001b[38;5;124mFB\u001b[39m\u001b[38;5;124m'\u001b[39m]\u001b[38;5;241m.\u001b[39mdrop(\u001b[38;5;124m'\u001b[39m\u001b[38;5;124msymbol\u001b[39m\u001b[38;5;124m'\u001b[39m, axis\u001b[38;5;241m=\u001b[39m\u001b[38;5;241m1\u001b[39m)\n\u001b[0;32m      3\u001b[0m TWTR \u001b[38;5;241m=\u001b[39m df_portfolio_year[df_portfolio_year[\u001b[38;5;124m'\u001b[39m\u001b[38;5;124msymbol\u001b[39m\u001b[38;5;124m'\u001b[39m]\u001b[38;5;241m==\u001b[39m\u001b[38;5;124m'\u001b[39m\u001b[38;5;124mTWTR\u001b[39m\u001b[38;5;124m'\u001b[39m]\u001b[38;5;241m.\u001b[39mdrop(\u001b[38;5;124m'\u001b[39m\u001b[38;5;124msymbol\u001b[39m\u001b[38;5;124m'\u001b[39m, axis\u001b[38;5;241m=\u001b[39m\u001b[38;5;241m1\u001b[39m)\n\u001b[0;32m      5\u001b[0m \u001b[38;5;66;03m# Concatenate the ticker DataFrames\u001b[39;00m\n",
      "\u001b[1;31mNameError\u001b[0m: name 'df_portfolio_year' is not defined"
     ]
    }
   ],
   "source": [
    "# Separate ticker data\n",
    "FB = df_portfolio_year[df_portfolio_year['symbol']=='FB'].drop('symbol', axis=1)\n",
    "TWTR = df_portfolio_year[df_portfolio_year['symbol']=='TWTR'].drop('symbol', axis=1)\n",
    "\n",
    "# Concatenate the ticker DataFrames\n",
    "df_portfolio_year = pd.concat([FB, TWTR],axis=1, keys=['FB','TWTR'])\n",
    "\n",
    "df_closing_prices[\"TWTR\"] = df_portfolio_year[\"TWTR\"][\"close\"]"
   ]
  },
  {
   "cell_type": "code",
   "execution_count": 27,
   "id": "9d51dd8b-5c7f-470f-95f9-1be44c0d75c8",
   "metadata": {},
   "outputs": [
    {
     "ename": "KeyError",
     "evalue": "'Close'",
     "output_type": "error",
     "traceback": [
      "\u001b[1;31m---------------------------------------------------------------------------\u001b[0m",
      "\u001b[1;31mKeyError\u001b[0m                                  Traceback (most recent call last)",
      "File \u001b[1;32m~\\anaconda3\\lib\\site-packages\\pandas\\core\\indexes\\base.py:3802\u001b[0m, in \u001b[0;36mIndex.get_loc\u001b[1;34m(self, key, method, tolerance)\u001b[0m\n\u001b[0;32m   3801\u001b[0m \u001b[38;5;28;01mtry\u001b[39;00m:\n\u001b[1;32m-> 3802\u001b[0m     \u001b[38;5;28;01mreturn\u001b[39;00m \u001b[38;5;28;43mself\u001b[39;49m\u001b[38;5;241;43m.\u001b[39;49m\u001b[43m_engine\u001b[49m\u001b[38;5;241;43m.\u001b[39;49m\u001b[43mget_loc\u001b[49m\u001b[43m(\u001b[49m\u001b[43mcasted_key\u001b[49m\u001b[43m)\u001b[49m\n\u001b[0;32m   3803\u001b[0m \u001b[38;5;28;01mexcept\u001b[39;00m \u001b[38;5;167;01mKeyError\u001b[39;00m \u001b[38;5;28;01mas\u001b[39;00m err:\n",
      "File \u001b[1;32m~\\anaconda3\\lib\\site-packages\\pandas\\_libs\\index.pyx:138\u001b[0m, in \u001b[0;36mpandas._libs.index.IndexEngine.get_loc\u001b[1;34m()\u001b[0m\n",
      "File \u001b[1;32m~\\anaconda3\\lib\\site-packages\\pandas\\_libs\\index.pyx:165\u001b[0m, in \u001b[0;36mpandas._libs.index.IndexEngine.get_loc\u001b[1;34m()\u001b[0m\n",
      "File \u001b[1;32mpandas\\_libs\\hashtable_class_helper.pxi:5745\u001b[0m, in \u001b[0;36mpandas._libs.hashtable.PyObjectHashTable.get_item\u001b[1;34m()\u001b[0m\n",
      "File \u001b[1;32mpandas\\_libs\\hashtable_class_helper.pxi:5753\u001b[0m, in \u001b[0;36mpandas._libs.hashtable.PyObjectHashTable.get_item\u001b[1;34m()\u001b[0m\n",
      "\u001b[1;31mKeyError\u001b[0m: 'Close'",
      "\nThe above exception was the direct cause of the following exception:\n",
      "\u001b[1;31mKeyError\u001b[0m                                  Traceback (most recent call last)",
      "Cell \u001b[1;32mIn[27], line 3\u001b[0m\n\u001b[0;32m      1\u001b[0m \u001b[38;5;66;03m#Join Whale Returns, Algorithmic Returns, and the S&P TSX 60 Returns into a single DataFrame with columns for each portfolio's returns.\u001b[39;00m\n\u001b[0;32m      2\u001b[0m df \u001b[38;5;241m=\u001b[39m pd\u001b[38;5;241m.\u001b[39mconcat([whale_returns2, algo_returns2, sp_tsx2], axis\u001b[38;5;241m=\u001b[39m\u001b[38;5;124m\"\u001b[39m\u001b[38;5;124mcolumns\u001b[39m\u001b[38;5;124m\"\u001b[39m, join\u001b[38;5;241m=\u001b[39m\u001b[38;5;124m\"\u001b[39m\u001b[38;5;124minner\u001b[39m\u001b[38;5;124m\"\u001b[39m, keys\u001b[38;5;241m=\u001b[39m[\u001b[38;5;124m'\u001b[39m\u001b[38;5;124mWhale\u001b[39m\u001b[38;5;124m'\u001b[39m,\u001b[38;5;124m'\u001b[39m\u001b[38;5;124mAlgo\u001b[39m\u001b[38;5;124m'\u001b[39m,\u001b[38;5;124m'\u001b[39m\u001b[38;5;124mS&P\u001b[39m\u001b[38;5;124m'\u001b[39m])\n\u001b[1;32m----> 3\u001b[0m df[\u001b[38;5;124m'\u001b[39m\u001b[38;5;124mS&P\u001b[39m\u001b[38;5;124m'\u001b[39m] \u001b[38;5;241m=\u001b[39m \u001b[43mdf\u001b[49m\u001b[38;5;241;43m.\u001b[39;49m\u001b[43mdrop\u001b[49m\u001b[43m(\u001b[49m\u001b[43mcolumns\u001b[49m\u001b[38;5;241;43m=\u001b[39;49m\u001b[43m[\u001b[49m\u001b[38;5;124;43m'\u001b[39;49m\u001b[38;5;124;43mClose\u001b[39;49m\u001b[38;5;124;43m'\u001b[39;49m\u001b[43m]\u001b[49m\u001b[43m)\u001b[49m\n\u001b[0;32m      4\u001b[0m df\n",
      "File \u001b[1;32m~\\anaconda3\\lib\\site-packages\\pandas\\util\\_decorators.py:331\u001b[0m, in \u001b[0;36mdeprecate_nonkeyword_arguments.<locals>.decorate.<locals>.wrapper\u001b[1;34m(*args, **kwargs)\u001b[0m\n\u001b[0;32m    325\u001b[0m \u001b[38;5;28;01mif\u001b[39;00m \u001b[38;5;28mlen\u001b[39m(args) \u001b[38;5;241m>\u001b[39m num_allow_args:\n\u001b[0;32m    326\u001b[0m     warnings\u001b[38;5;241m.\u001b[39mwarn(\n\u001b[0;32m    327\u001b[0m         msg\u001b[38;5;241m.\u001b[39mformat(arguments\u001b[38;5;241m=\u001b[39m_format_argument_list(allow_args)),\n\u001b[0;32m    328\u001b[0m         \u001b[38;5;167;01mFutureWarning\u001b[39;00m,\n\u001b[0;32m    329\u001b[0m         stacklevel\u001b[38;5;241m=\u001b[39mfind_stack_level(),\n\u001b[0;32m    330\u001b[0m     )\n\u001b[1;32m--> 331\u001b[0m \u001b[38;5;28;01mreturn\u001b[39;00m func(\u001b[38;5;241m*\u001b[39margs, \u001b[38;5;241m*\u001b[39m\u001b[38;5;241m*\u001b[39mkwargs)\n",
      "File \u001b[1;32m~\\anaconda3\\lib\\site-packages\\pandas\\core\\frame.py:5399\u001b[0m, in \u001b[0;36mDataFrame.drop\u001b[1;34m(self, labels, axis, index, columns, level, inplace, errors)\u001b[0m\n\u001b[0;32m   5251\u001b[0m \u001b[38;5;129m@deprecate_nonkeyword_arguments\u001b[39m(version\u001b[38;5;241m=\u001b[39m\u001b[38;5;28;01mNone\u001b[39;00m, allowed_args\u001b[38;5;241m=\u001b[39m[\u001b[38;5;124m\"\u001b[39m\u001b[38;5;124mself\u001b[39m\u001b[38;5;124m\"\u001b[39m, \u001b[38;5;124m\"\u001b[39m\u001b[38;5;124mlabels\u001b[39m\u001b[38;5;124m\"\u001b[39m])\n\u001b[0;32m   5252\u001b[0m \u001b[38;5;28;01mdef\u001b[39;00m \u001b[38;5;21mdrop\u001b[39m(  \u001b[38;5;66;03m# type: ignore[override]\u001b[39;00m\n\u001b[0;32m   5253\u001b[0m     \u001b[38;5;28mself\u001b[39m,\n\u001b[1;32m   (...)\u001b[0m\n\u001b[0;32m   5260\u001b[0m     errors: IgnoreRaise \u001b[38;5;241m=\u001b[39m \u001b[38;5;124m\"\u001b[39m\u001b[38;5;124mraise\u001b[39m\u001b[38;5;124m\"\u001b[39m,\n\u001b[0;32m   5261\u001b[0m ) \u001b[38;5;241m-\u001b[39m\u001b[38;5;241m>\u001b[39m DataFrame \u001b[38;5;241m|\u001b[39m \u001b[38;5;28;01mNone\u001b[39;00m:\n\u001b[0;32m   5262\u001b[0m     \u001b[38;5;124;03m\"\"\"\u001b[39;00m\n\u001b[0;32m   5263\u001b[0m \u001b[38;5;124;03m    Drop specified labels from rows or columns.\u001b[39;00m\n\u001b[0;32m   5264\u001b[0m \n\u001b[1;32m   (...)\u001b[0m\n\u001b[0;32m   5397\u001b[0m \u001b[38;5;124;03m            weight  1.0     0.8\u001b[39;00m\n\u001b[0;32m   5398\u001b[0m \u001b[38;5;124;03m    \"\"\"\u001b[39;00m\n\u001b[1;32m-> 5399\u001b[0m     \u001b[38;5;28;01mreturn\u001b[39;00m \u001b[38;5;28;43msuper\u001b[39;49m\u001b[43m(\u001b[49m\u001b[43m)\u001b[49m\u001b[38;5;241;43m.\u001b[39;49m\u001b[43mdrop\u001b[49m\u001b[43m(\u001b[49m\n\u001b[0;32m   5400\u001b[0m \u001b[43m        \u001b[49m\u001b[43mlabels\u001b[49m\u001b[38;5;241;43m=\u001b[39;49m\u001b[43mlabels\u001b[49m\u001b[43m,\u001b[49m\n\u001b[0;32m   5401\u001b[0m \u001b[43m        \u001b[49m\u001b[43maxis\u001b[49m\u001b[38;5;241;43m=\u001b[39;49m\u001b[43maxis\u001b[49m\u001b[43m,\u001b[49m\n\u001b[0;32m   5402\u001b[0m \u001b[43m        \u001b[49m\u001b[43mindex\u001b[49m\u001b[38;5;241;43m=\u001b[39;49m\u001b[43mindex\u001b[49m\u001b[43m,\u001b[49m\n\u001b[0;32m   5403\u001b[0m \u001b[43m        \u001b[49m\u001b[43mcolumns\u001b[49m\u001b[38;5;241;43m=\u001b[39;49m\u001b[43mcolumns\u001b[49m\u001b[43m,\u001b[49m\n\u001b[0;32m   5404\u001b[0m \u001b[43m        \u001b[49m\u001b[43mlevel\u001b[49m\u001b[38;5;241;43m=\u001b[39;49m\u001b[43mlevel\u001b[49m\u001b[43m,\u001b[49m\n\u001b[0;32m   5405\u001b[0m \u001b[43m        \u001b[49m\u001b[43minplace\u001b[49m\u001b[38;5;241;43m=\u001b[39;49m\u001b[43minplace\u001b[49m\u001b[43m,\u001b[49m\n\u001b[0;32m   5406\u001b[0m \u001b[43m        \u001b[49m\u001b[43merrors\u001b[49m\u001b[38;5;241;43m=\u001b[39;49m\u001b[43merrors\u001b[49m\u001b[43m,\u001b[49m\n\u001b[0;32m   5407\u001b[0m \u001b[43m    \u001b[49m\u001b[43m)\u001b[49m\n",
      "File \u001b[1;32m~\\anaconda3\\lib\\site-packages\\pandas\\util\\_decorators.py:331\u001b[0m, in \u001b[0;36mdeprecate_nonkeyword_arguments.<locals>.decorate.<locals>.wrapper\u001b[1;34m(*args, **kwargs)\u001b[0m\n\u001b[0;32m    325\u001b[0m \u001b[38;5;28;01mif\u001b[39;00m \u001b[38;5;28mlen\u001b[39m(args) \u001b[38;5;241m>\u001b[39m num_allow_args:\n\u001b[0;32m    326\u001b[0m     warnings\u001b[38;5;241m.\u001b[39mwarn(\n\u001b[0;32m    327\u001b[0m         msg\u001b[38;5;241m.\u001b[39mformat(arguments\u001b[38;5;241m=\u001b[39m_format_argument_list(allow_args)),\n\u001b[0;32m    328\u001b[0m         \u001b[38;5;167;01mFutureWarning\u001b[39;00m,\n\u001b[0;32m    329\u001b[0m         stacklevel\u001b[38;5;241m=\u001b[39mfind_stack_level(),\n\u001b[0;32m    330\u001b[0m     )\n\u001b[1;32m--> 331\u001b[0m \u001b[38;5;28;01mreturn\u001b[39;00m func(\u001b[38;5;241m*\u001b[39margs, \u001b[38;5;241m*\u001b[39m\u001b[38;5;241m*\u001b[39mkwargs)\n",
      "File \u001b[1;32m~\\anaconda3\\lib\\site-packages\\pandas\\core\\generic.py:4505\u001b[0m, in \u001b[0;36mNDFrame.drop\u001b[1;34m(self, labels, axis, index, columns, level, inplace, errors)\u001b[0m\n\u001b[0;32m   4503\u001b[0m \u001b[38;5;28;01mfor\u001b[39;00m axis, labels \u001b[38;5;129;01min\u001b[39;00m axes\u001b[38;5;241m.\u001b[39mitems():\n\u001b[0;32m   4504\u001b[0m     \u001b[38;5;28;01mif\u001b[39;00m labels \u001b[38;5;129;01mis\u001b[39;00m \u001b[38;5;129;01mnot\u001b[39;00m \u001b[38;5;28;01mNone\u001b[39;00m:\n\u001b[1;32m-> 4505\u001b[0m         obj \u001b[38;5;241m=\u001b[39m \u001b[43mobj\u001b[49m\u001b[38;5;241;43m.\u001b[39;49m\u001b[43m_drop_axis\u001b[49m\u001b[43m(\u001b[49m\u001b[43mlabels\u001b[49m\u001b[43m,\u001b[49m\u001b[43m \u001b[49m\u001b[43maxis\u001b[49m\u001b[43m,\u001b[49m\u001b[43m \u001b[49m\u001b[43mlevel\u001b[49m\u001b[38;5;241;43m=\u001b[39;49m\u001b[43mlevel\u001b[49m\u001b[43m,\u001b[49m\u001b[43m \u001b[49m\u001b[43merrors\u001b[49m\u001b[38;5;241;43m=\u001b[39;49m\u001b[43merrors\u001b[49m\u001b[43m)\u001b[49m\n\u001b[0;32m   4507\u001b[0m \u001b[38;5;28;01mif\u001b[39;00m inplace:\n\u001b[0;32m   4508\u001b[0m     \u001b[38;5;28mself\u001b[39m\u001b[38;5;241m.\u001b[39m_update_inplace(obj)\n",
      "File \u001b[1;32m~\\anaconda3\\lib\\site-packages\\pandas\\core\\generic.py:4546\u001b[0m, in \u001b[0;36mNDFrame._drop_axis\u001b[1;34m(self, labels, axis, level, errors, only_slice)\u001b[0m\n\u001b[0;32m   4544\u001b[0m         new_axis \u001b[38;5;241m=\u001b[39m axis\u001b[38;5;241m.\u001b[39mdrop(labels, level\u001b[38;5;241m=\u001b[39mlevel, errors\u001b[38;5;241m=\u001b[39merrors)\n\u001b[0;32m   4545\u001b[0m     \u001b[38;5;28;01melse\u001b[39;00m:\n\u001b[1;32m-> 4546\u001b[0m         new_axis \u001b[38;5;241m=\u001b[39m \u001b[43maxis\u001b[49m\u001b[38;5;241;43m.\u001b[39;49m\u001b[43mdrop\u001b[49m\u001b[43m(\u001b[49m\u001b[43mlabels\u001b[49m\u001b[43m,\u001b[49m\u001b[43m \u001b[49m\u001b[43merrors\u001b[49m\u001b[38;5;241;43m=\u001b[39;49m\u001b[43merrors\u001b[49m\u001b[43m)\u001b[49m\n\u001b[0;32m   4547\u001b[0m     indexer \u001b[38;5;241m=\u001b[39m axis\u001b[38;5;241m.\u001b[39mget_indexer(new_axis)\n\u001b[0;32m   4549\u001b[0m \u001b[38;5;66;03m# Case for non-unique axis\u001b[39;00m\n\u001b[0;32m   4550\u001b[0m \u001b[38;5;28;01melse\u001b[39;00m:\n",
      "File \u001b[1;32m~\\anaconda3\\lib\\site-packages\\pandas\\core\\indexes\\multi.py:2270\u001b[0m, in \u001b[0;36mMultiIndex.drop\u001b[1;34m(self, codes, level, errors)\u001b[0m\n\u001b[0;32m   2268\u001b[0m \u001b[38;5;28;01mfor\u001b[39;00m level_codes \u001b[38;5;129;01min\u001b[39;00m codes:\n\u001b[0;32m   2269\u001b[0m     \u001b[38;5;28;01mtry\u001b[39;00m:\n\u001b[1;32m-> 2270\u001b[0m         loc \u001b[38;5;241m=\u001b[39m \u001b[38;5;28;43mself\u001b[39;49m\u001b[38;5;241;43m.\u001b[39;49m\u001b[43mget_loc\u001b[49m\u001b[43m(\u001b[49m\u001b[43mlevel_codes\u001b[49m\u001b[43m)\u001b[49m\n\u001b[0;32m   2271\u001b[0m         \u001b[38;5;66;03m# get_loc returns either an integer, a slice, or a boolean\u001b[39;00m\n\u001b[0;32m   2272\u001b[0m         \u001b[38;5;66;03m# mask\u001b[39;00m\n\u001b[0;32m   2273\u001b[0m         \u001b[38;5;28;01mif\u001b[39;00m \u001b[38;5;28misinstance\u001b[39m(loc, \u001b[38;5;28mint\u001b[39m):\n",
      "File \u001b[1;32m~\\anaconda3\\lib\\site-packages\\pandas\\core\\indexes\\multi.py:2916\u001b[0m, in \u001b[0;36mMultiIndex.get_loc\u001b[1;34m(self, key, method)\u001b[0m\n\u001b[0;32m   2913\u001b[0m     \u001b[38;5;28;01mreturn\u001b[39;00m mask\n\u001b[0;32m   2915\u001b[0m \u001b[38;5;28;01mif\u001b[39;00m \u001b[38;5;129;01mnot\u001b[39;00m \u001b[38;5;28misinstance\u001b[39m(key, \u001b[38;5;28mtuple\u001b[39m):\n\u001b[1;32m-> 2916\u001b[0m     loc \u001b[38;5;241m=\u001b[39m \u001b[38;5;28;43mself\u001b[39;49m\u001b[38;5;241;43m.\u001b[39;49m\u001b[43m_get_level_indexer\u001b[49m\u001b[43m(\u001b[49m\u001b[43mkey\u001b[49m\u001b[43m,\u001b[49m\u001b[43m \u001b[49m\u001b[43mlevel\u001b[49m\u001b[38;5;241;43m=\u001b[39;49m\u001b[38;5;241;43m0\u001b[39;49m\u001b[43m)\u001b[49m\n\u001b[0;32m   2917\u001b[0m     \u001b[38;5;28;01mreturn\u001b[39;00m _maybe_to_slice(loc)\n\u001b[0;32m   2919\u001b[0m keylen \u001b[38;5;241m=\u001b[39m \u001b[38;5;28mlen\u001b[39m(key)\n",
      "File \u001b[1;32m~\\anaconda3\\lib\\site-packages\\pandas\\core\\indexes\\multi.py:3263\u001b[0m, in \u001b[0;36mMultiIndex._get_level_indexer\u001b[1;34m(self, key, level, indexer)\u001b[0m\n\u001b[0;32m   3259\u001b[0m         \u001b[38;5;28;01mreturn\u001b[39;00m \u001b[38;5;28mslice\u001b[39m(i, j, step)\n\u001b[0;32m   3261\u001b[0m \u001b[38;5;28;01melse\u001b[39;00m:\n\u001b[1;32m-> 3263\u001b[0m     idx \u001b[38;5;241m=\u001b[39m \u001b[38;5;28;43mself\u001b[39;49m\u001b[38;5;241;43m.\u001b[39;49m\u001b[43m_get_loc_single_level_index\u001b[49m\u001b[43m(\u001b[49m\u001b[43mlevel_index\u001b[49m\u001b[43m,\u001b[49m\u001b[43m \u001b[49m\u001b[43mkey\u001b[49m\u001b[43m)\u001b[49m\n\u001b[0;32m   3265\u001b[0m     \u001b[38;5;28;01mif\u001b[39;00m level \u001b[38;5;241m>\u001b[39m \u001b[38;5;241m0\u001b[39m \u001b[38;5;129;01mor\u001b[39;00m \u001b[38;5;28mself\u001b[39m\u001b[38;5;241m.\u001b[39m_lexsort_depth \u001b[38;5;241m==\u001b[39m \u001b[38;5;241m0\u001b[39m:\n\u001b[0;32m   3266\u001b[0m         \u001b[38;5;66;03m# Desired level is not sorted\u001b[39;00m\n\u001b[0;32m   3267\u001b[0m         \u001b[38;5;28;01mif\u001b[39;00m \u001b[38;5;28misinstance\u001b[39m(idx, \u001b[38;5;28mslice\u001b[39m):\n\u001b[0;32m   3268\u001b[0m             \u001b[38;5;66;03m# test_get_loc_partial_timestamp_multiindex\u001b[39;00m\n",
      "File \u001b[1;32m~\\anaconda3\\lib\\site-packages\\pandas\\core\\indexes\\multi.py:2849\u001b[0m, in \u001b[0;36mMultiIndex._get_loc_single_level_index\u001b[1;34m(self, level_index, key)\u001b[0m\n\u001b[0;32m   2847\u001b[0m     \u001b[38;5;28;01mreturn\u001b[39;00m \u001b[38;5;241m-\u001b[39m\u001b[38;5;241m1\u001b[39m\n\u001b[0;32m   2848\u001b[0m \u001b[38;5;28;01melse\u001b[39;00m:\n\u001b[1;32m-> 2849\u001b[0m     \u001b[38;5;28;01mreturn\u001b[39;00m \u001b[43mlevel_index\u001b[49m\u001b[38;5;241;43m.\u001b[39;49m\u001b[43mget_loc\u001b[49m\u001b[43m(\u001b[49m\u001b[43mkey\u001b[49m\u001b[43m)\u001b[49m\n",
      "File \u001b[1;32m~\\anaconda3\\lib\\site-packages\\pandas\\core\\indexes\\base.py:3804\u001b[0m, in \u001b[0;36mIndex.get_loc\u001b[1;34m(self, key, method, tolerance)\u001b[0m\n\u001b[0;32m   3802\u001b[0m     \u001b[38;5;28;01mreturn\u001b[39;00m \u001b[38;5;28mself\u001b[39m\u001b[38;5;241m.\u001b[39m_engine\u001b[38;5;241m.\u001b[39mget_loc(casted_key)\n\u001b[0;32m   3803\u001b[0m \u001b[38;5;28;01mexcept\u001b[39;00m \u001b[38;5;167;01mKeyError\u001b[39;00m \u001b[38;5;28;01mas\u001b[39;00m err:\n\u001b[1;32m-> 3804\u001b[0m     \u001b[38;5;28;01mraise\u001b[39;00m \u001b[38;5;167;01mKeyError\u001b[39;00m(key) \u001b[38;5;28;01mfrom\u001b[39;00m \u001b[38;5;21;01merr\u001b[39;00m\n\u001b[0;32m   3805\u001b[0m \u001b[38;5;28;01mexcept\u001b[39;00m \u001b[38;5;167;01mTypeError\u001b[39;00m:\n\u001b[0;32m   3806\u001b[0m     \u001b[38;5;66;03m# If we have a listlike key, _check_indexing_error will raise\u001b[39;00m\n\u001b[0;32m   3807\u001b[0m     \u001b[38;5;66;03m#  InvalidIndexError. Otherwise we fall through and re-raise\u001b[39;00m\n\u001b[0;32m   3808\u001b[0m     \u001b[38;5;66;03m#  the TypeError.\u001b[39;00m\n\u001b[0;32m   3809\u001b[0m     \u001b[38;5;28mself\u001b[39m\u001b[38;5;241m.\u001b[39m_check_indexing_error(key)\n",
      "\u001b[1;31mKeyError\u001b[0m: 'Close'"
     ]
    }
   ],
   "source": [
    "#Join Whale Returns, Algorithmic Returns, and the S&P TSX 60 Returns into a single DataFrame with columns for each portfolio's returns.\n",
    "df = pd.concat([whale_returns2, algo_returns2, sp_tsx2], axis=\"columns\", join=\"inner\", keys=['Whale','Algo','S&P'])\n",
    "df['S&P'] = df.drop(columns=['Close'])\n",
    "df\n"
   ]
  },
  {
   "cell_type": "markdown",
   "id": "5140b9f8-947b-493f-9368-2c6a07184d1f",
   "metadata": {},
   "source": [
    "# Perform Quanitative Analysis"
   ]
  },
  {
   "cell_type": "code",
   "execution_count": null,
   "id": "f4e71467-9f00-481b-a8c2-fb1ab04061bd",
   "metadata": {},
   "outputs": [],
   "source": [
    "#calculating portfolio daily returns\n",
    "# 3 portfolios: whale, algo, spx"
   ]
  },
  {
   "cell_type": "markdown",
   "id": "eb32d122-e359-4899-b8fb-0aee4fdb6d2d",
   "metadata": {},
   "source": [
    "# Shortcut for calculating returns\n",
    "weights = [0.5, 0.5]\n",
    "portfolio_returns = all_returns.dot(weights)\n",
    "portfolio_returns.head()\n",
    "\n",
    "msft_df.plot()"
   ]
  },
  {
   "cell_type": "code",
   "execution_count": null,
   "id": "1f3c8c9a-d972-480d-8c80-328fb6792f6c",
   "metadata": {},
   "outputs": [],
   "source": [
    "# daily returns whale portfolio with 4 equally weighted assets\n",
    "weights1 = [0.25, 0.25, 0.25, 0.25]\n",
    "\n",
    "whale_portfolio_returns = whale_returns2.dot(weights1)\n",
    "whale_portfolio_returns"
   ]
  },
  {
   "cell_type": "code",
   "execution_count": null,
   "id": "96e88766-b679-4c29-b14b-e190c219c0b3",
   "metadata": {},
   "outputs": [],
   "source": [
    "# plot daily returns over 5 years\n",
    "whale_portfolio_returns.plot(figsize =(20,10), title=\"Daily Returns Whale Portfolio\")"
   ]
  },
  {
   "cell_type": "code",
   "execution_count": null,
   "id": "a9552b9d-704b-421a-8e70-d2bada871f6a",
   "metadata": {},
   "outputs": [],
   "source": [
    "# daily returns trading algorithms portfolio for 2 equally weighted assets\n",
    "weights2 = [0.5, 0.5]\n",
    "algo_portfolio_returns = algo_returns2.dot(weights2)\n",
    "algo_portfolio_returns"
   ]
  },
  {
   "cell_type": "code",
   "execution_count": null,
   "id": "8a8be845-f30c-458d-a457-8434c495bb0a",
   "metadata": {},
   "outputs": [],
   "source": [
    "# plot daily returns over 5 years\n",
    "algo_portfolio_returns.plot(figsize=(20,10), title= \"Daily Returns Algo Portfolio\")"
   ]
  },
  {
   "cell_type": "code",
   "execution_count": null,
   "id": "16f1e3ee-7c4a-4144-b537-807563a0c329",
   "metadata": {},
   "outputs": [],
   "source": [
    "# daily returns S&P TSX portfolio\n",
    "sp_tsx_portfolio_returns = sp_tsx2.drop(columns=['Close'])\n",
    "sp_tsx_portfolio_returns"
   ]
  },
  {
   "cell_type": "code",
   "execution_count": null,
   "id": "d3bef6d3-93d1-4069-814f-ec1296078ce7",
   "metadata": {},
   "outputs": [],
   "source": [
    "# plot daily returns over 5 years\n",
    "sp_tsx_portfolio_returns.plot(figsize=(20,10), title=\"Daily Returns S&P TSX Portfolio\")"
   ]
  },
  {
   "cell_type": "markdown",
   "id": "a063fea3-20ed-4b38-a9df-b709bc7ab02b",
   "metadata": {},
   "source": [
    "# Calculate the cumulative returns using the 'cumprod()' function\n",
    "cumulative_returns = (1 + daily_returns).cumprod() - 1\n",
    "cumulative_returns"
   ]
  },
  {
   "cell_type": "code",
   "execution_count": null,
   "id": "cd3c93db-498c-4ca9-940c-d59acd22ca73",
   "metadata": {},
   "outputs": [],
   "source": [
    "# Calculating the cumulative returns using the 'cumprod()' function\n",
    "cummulative_whale_portfolio_returns = (1 + whale_portfolio_returns).cumprod()-1\n",
    "cummulative_whale_portfolio_returns"
   ]
  },
  {
   "cell_type": "code",
   "execution_count": null,
   "id": "15bc9a0b-fc6f-4229-929e-b81dcfcca723",
   "metadata": {},
   "outputs": [],
   "source": [
    "# Calculating the cumulative returns using the 'cumprod()' function\n",
    "cummulative_algo_portfolio_returns = (1 + algo_portfolio_returns).cumprod()-1\n",
    "cummulative_algo_portfolio_returns"
   ]
  },
  {
   "cell_type": "code",
   "execution_count": null,
   "id": "22f1a576-bbdc-478c-8573-debb2eda2292",
   "metadata": {},
   "outputs": [],
   "source": [
    "# Calculating the cumulative returns using the 'cumprod()' function\n",
    "cummulative_sp_tsx_portfolio_returns = (1 + sp_tsx_portfolio_returns).cumprod()-1\n",
    "cummulative_sp_tsx_portfolio_returns"
   ]
  },
  {
   "cell_type": "markdown",
   "id": "db9a66bf-727c-4e90-b883-02e2798a01f1",
   "metadata": {},
   "source": [
    "# plotting all portfolio cummulative returns on the same graph to compare them to the S&P TSX portfolio\n",
    "whale_returns2\n",
    "weights1 = [0.25, 0.25, 0.25, 0.25]\n",
    "algo_returns2\n",
    "weights2 = [0.5, 0.5]\n",
    "\n",
    "sp_tsx2\n",
    "\n",
    "cummulative_whale_portfolio_returns = (1 + (whale_returns2.dot(weights1))).cumprod()-1\n",
    "cummulative_algo_portfolio_returns = (1 + (algo_returns2.dot(weights2))).cumprod()-1\n",
    "cummulative_sp_tsx_portfolio_returns = (1 + (sp_tsx2.drop(columns=['Close']))).cumprod()-1\n",
    "\n",
    "comparison_portfolio = pd.DataFrame({\n",
    "    \"Whale\": cummulative_whale_portfolio_returns,\n",
    "    \"Algo\": cummulative_algo_portfolio_returns,\n",
    "    \"S&P\": cummulative_sp_tsx_portfolio_returns\n",
    "})\n",
    "comparison_portfolio.plot()"
   ]
  },
  {
   "cell_type": "markdown",
   "id": "909090a3-eac9-40e6-83a7-449b888b9284",
   "metadata": {},
   "source": [
    "portfolio_a_std = np.random.normal(scale=0.5, size=10000)\n",
    "portfolio_b_std = np.random.normal(scale=1.0, size=10000)\n",
    "portfolio_c_std = np.random.normal(scale=1.5, size=10000)\n",
    "\n",
    "portfolio_std = pd.DataFrame({\n",
    "    \"0.5\": portfolio_a_std,\n",
    "    \"1.0\": portfolio_b_std,\n",
    "    \"1.5\": portfolio_c_std\n",
    "})\n",
    "\n",
    "portfolio_std.plot.hist(stacked=True, bins=100)"
   ]
  },
  {
   "cell_type": "markdown",
   "id": "067e89cc-8d36-4823-8108-7709edfc32f4",
   "metadata": {},
   "source": [
    "all_portfolios.plot(figsize=(20, 10), title=\"Daily Returns\")"
   ]
  },
  {
   "cell_type": "code",
   "execution_count": null,
   "id": "05bf2bdf-f06c-4026-931b-1d9bc463195a",
   "metadata": {},
   "outputs": [],
   "source": [
    "# Plot cumulative returns\n",
    "cummulative_whale_portfolio_returns.plot(figsize=(20, 10), title=\"Cummulative Returns Whale Portfolio\")"
   ]
  },
  {
   "cell_type": "code",
   "execution_count": null,
   "id": "a4640332-dd33-4527-b6f8-e434fbfd667a",
   "metadata": {},
   "outputs": [],
   "source": [
    "cummulative_algo_portfolio_returns.plot(figsize=(20, 10), title=\"Cummulative Returns Algo Portfolio\")"
   ]
  },
  {
   "cell_type": "code",
   "execution_count": null,
   "id": "8bbe19fb-90a4-4ca6-a21b-3c773e0948c8",
   "metadata": {},
   "outputs": [],
   "source": [
    "cummulative_sp_tsx_portfolio_returns.plot(figsize=(20, 10), title=\"Cummulative Returns S&P TSX Portfolio\")"
   ]
  },
  {
   "cell_type": "markdown",
   "id": "6fd9cd61-08cf-41c7-bb26-bb3063535fd1",
   "metadata": {},
   "source": [
    "## The cummulative return of the Algo portfolio outperforms the S&P TSX portfolio by 41.54% (0.797683-0.382239)"
   ]
  },
  {
   "cell_type": "markdown",
   "id": "9f66c188-02c2-4e1c-a69b-d1a67cfbda4b",
   "metadata": {},
   "source": [
    "# Risk Analysis"
   ]
  },
  {
   "cell_type": "code",
   "execution_count": null,
   "id": "a57fb562-094d-42f6-ad42-aca0a2ff5007",
   "metadata": {},
   "outputs": [],
   "source": [
    "# Box plot to visually show risk: wider spread of returns induces greater risks for the investor\n",
    "# Create a box plot for each of the returns.\n",
    "portfolio_std.plot.box()\n"
   ]
  },
  {
   "cell_type": "code",
   "execution_count": null,
   "id": "9552d879-6041-49bc-b823-1ba68d7a97fd",
   "metadata": {},
   "outputs": [],
   "source": [
    "# Create a box plot for each of the returns.\n",
    "whale_portfolio_returns.plot.box(title = \"Whale Box Plot\")"
   ]
  },
  {
   "cell_type": "code",
   "execution_count": null,
   "id": "dcb1387d-5bab-4869-bbd9-b099edba3783",
   "metadata": {},
   "outputs": [],
   "source": [
    "### 50% of the daily returns are concentrated between -0.5% and 0.5%, with a minimum of -1.5% and a maximum of 1.5% indicated by both tails of the boxplot.\n",
    "### There's a large number of outliers, which indicates a large deviation from average daily returns. Especially for higher returns with the two highest outliers at around 4%.\n",
    "### Given the large amount of outliers, which entails great variations in daily returns, I assume the whale portfolio is RISKY."
   ]
  },
  {
   "cell_type": "code",
   "execution_count": null,
   "id": "83c2766e-d821-44bf-94de-e48b94176ec8",
   "metadata": {},
   "outputs": [],
   "source": [
    "algo_portfolio_returns.plot.box(title = \"Algo Box Plot\")"
   ]
  },
  {
   "cell_type": "code",
   "execution_count": null,
   "id": "0a0f975c-0cca-4e02-b109-8b54d86d8493",
   "metadata": {},
   "outputs": [],
   "source": [
    "### The algo portoflio returns are more concentrated, as we can see from the smaller box. 50% of daily returns range from -1% to 0% and 50% from 0 to 1%.\n",
    "### There's also a large amount of outliers, but also concentrated, with the exception of 1 abnormally high outlier with a daily return of 9%.\n",
    "### Looking at the distribution of daily returns, I assume that the algo portfolio would have the lowest risk since returns are highly concentrated, but the abmormally high outlier at 9% can cunterbalance the result."
   ]
  },
  {
   "cell_type": "code",
   "execution_count": null,
   "id": "7c1b2263-c1b5-4d7d-8d89-683c95904029",
   "metadata": {},
   "outputs": [],
   "source": [
    "sp_tsx_portfolio_returns.plot.box(title = \"S&P TSX Box Plot\")"
   ]
  },
  {
   "cell_type": "code",
   "execution_count": null,
   "id": "67e9eeb2-6f81-4c22-9963-d6f3d4dbe926",
   "metadata": {},
   "outputs": [],
   "source": [
    "### The shape of the distribution of the S&P TSX  returns looks symmetric. Outliers on lower and upper sides are relatively even, the lowest outlier reaches -3% and the highest 3%. 50% of daily returns range from -1.5% to 0%, and 50% from 0 to 1.5%.\n",
    "### Given this distribution that appears to be a Normal distribution, the S&P TSX portfolio should have a low volatility."
   ]
  },
  {
   "cell_type": "code",
   "execution_count": null,
   "id": "a6ed4883-7f3c-4784-89d5-9f08b26eb4ec",
   "metadata": {},
   "outputs": [],
   "source": [
    "# Calculate the daily standard deviations of all portfolios\n",
    "daily_std = daily_returns.std()\n"
   ]
  },
  {
   "cell_type": "code",
   "execution_count": null,
   "id": "37466c14-d1a5-46f4-8db5-a5c90c83d08e",
   "metadata": {},
   "outputs": [],
   "source": [
    "# Calculate the daily standard deviations of all portfolios\n",
    "whale_daily_std = whale_portfolio_returns.std()\n",
    "whale_daily_std"
   ]
  },
  {
   "cell_type": "code",
   "execution_count": null,
   "id": "3164aa16-2518-42a5-aa08-f3add348b918",
   "metadata": {},
   "outputs": [],
   "source": [
    "# Calculate the daily standard deviations of all portfolios\n",
    "algo_daily_std = algo_portfolio_returns.std()\n",
    "algo_daily_std"
   ]
  },
  {
   "cell_type": "code",
   "execution_count": null,
   "id": "fcf89654-611a-4324-ad03-3fb2c401975b",
   "metadata": {},
   "outputs": [],
   "source": [
    "# Calculate the daily standard deviations of all portfolios\n",
    "sp_tsx_daily_std = sp_tsx_portfolio_returns.std()\n",
    "sp_tsx_daily_std"
   ]
  },
  {
   "cell_type": "code",
   "execution_count": null,
   "id": "85324120-44c3-4081-aef6-c5733b4709c1",
   "metadata": {},
   "outputs": [],
   "source": [
    "### Both portfolios are riskier than the S&P TSX 60, since their respective standard deviations, or volatility, are greater than the S&P. \n",
    "### This is against my first assumption that the algo portfolio would be the safest one since the spread in its daily returns was highly concentrated. In the algo potfolio, the abnormally high outlier at 9% represents a huge spread from mean returns, large enough to significantly increase the portfolio's volatility. \n",
    "### I assume that without this outlier the standard deviation of algo would be lower than the S&P. "
   ]
  },
  {
   "cell_type": "code",
   "execution_count": null,
   "id": "2d3c44d0-36bb-4836-ab8d-6e067719b809",
   "metadata": {},
   "outputs": [],
   "source": [
    "# annualized_std = daily_std * np.sqrt(252)\n"
   ]
  },
  {
   "cell_type": "code",
   "execution_count": null,
   "id": "ee2b8bd3-5e1b-4ff3-b19e-e2ba166ebbd3",
   "metadata": {},
   "outputs": [],
   "source": [
    "# Calculate the annualized standard deviation (252 trading days)\n",
    "whale_annualized_std = whale_daily_std * np.sqrt(252)\n",
    "whale_annualized_std"
   ]
  },
  {
   "cell_type": "code",
   "execution_count": null,
   "id": "277bf8d3-335f-465e-9754-49ccf79d6360",
   "metadata": {},
   "outputs": [],
   "source": [
    "algo_annualized_std = algo_daily_std * np.sqrt(252)\n",
    "algo_annualized_std"
   ]
  },
  {
   "cell_type": "code",
   "execution_count": null,
   "id": "ff79d99b-decd-4204-92c4-c7fd393784b3",
   "metadata": {},
   "outputs": [],
   "source": [
    "sp_tsx_annualized_std = sp_tsx_daily_std * np.sqrt(252)\n",
    "sp_tsx_annualized_std"
   ]
  },
  {
   "cell_type": "markdown",
   "id": "b86a5e5c-5aed-422f-8ae6-36b55e3f4248",
   "metadata": {},
   "source": [
    "# Rolling Statistics"
   ]
  },
  {
   "cell_type": "code",
   "execution_count": null,
   "id": "87c1ef66-ce2c-4742-823e-a04b7ca3ceb4",
   "metadata": {},
   "outputs": [],
   "source": [
    "# Calculate and plot the rolling standard deviation for all portfolios, using a 21-day window.\n",
    "whale_portfolio_returns.rolling(window=21).std()"
   ]
  },
  {
   "cell_type": "code",
   "execution_count": null,
   "id": "53ed61eb-cd2d-471e-a29f-b37bd9f03e92",
   "metadata": {},
   "outputs": [],
   "source": [
    "# Calculate and plot the rolling standard deviation for all portfolios, using a 21-day window.\n",
    "whale_portfolio_returns.rolling(window=21).std().plot(figsize=(20,10), title=\"Whale 21-Day Rolling Standard Deviation\")\n"
   ]
  },
  {
   "cell_type": "code",
   "execution_count": null,
   "id": "870d6842-a07a-4753-8bf9-6b452cd01f40",
   "metadata": {},
   "outputs": [],
   "source": [
    "algo_portfolio_returns.rolling(window=21).std()"
   ]
  },
  {
   "cell_type": "code",
   "execution_count": null,
   "id": "bf33b058-3763-4d5c-b908-f042e096d514",
   "metadata": {},
   "outputs": [],
   "source": [
    "algo_portfolio_returns.rolling(window=21).std().plot(figsize=(20,10), title=\"Algo 21-Day Rolling Standard Deviation\")"
   ]
  },
  {
   "cell_type": "code",
   "execution_count": null,
   "id": "2de6d9f4-c0a4-470b-a851-729428c0ea23",
   "metadata": {},
   "outputs": [],
   "source": [
    "sp_tsx_portfolio_returns.rolling(window=21).std()"
   ]
  },
  {
   "cell_type": "code",
   "execution_count": null,
   "id": "788ef86f-6739-419d-9468-bd8c9dc51a5e",
   "metadata": {},
   "outputs": [],
   "source": [
    "sp_tsx_portfolio_returns.rolling(window=21).std().plot(figsize=(20,10), title=\"S&P TSX 60 21-Day Rolling Standard Deviation\")"
   ]
  },
  {
   "cell_type": "code",
   "execution_count": null,
   "id": "f0c63d80-1266-4b8c-a42b-336b57760f0e",
   "metadata": {},
   "outputs": [],
   "source": [
    "# Calculate and plot the correlation between each stock to determine which portfolios mimic the S&P TSX 60.\n"
   ]
  },
  {
   "cell_type": "code",
   "execution_count": 28,
   "id": "2781f0a1-9d51-473a-b915-56bdec776b00",
   "metadata": {},
   "outputs": [
    {
     "ename": "NameError",
     "evalue": "name 'covariance' is not defined",
     "output_type": "error",
     "traceback": [
      "\u001b[1;31m---------------------------------------------------------------------------\u001b[0m",
      "\u001b[1;31mNameError\u001b[0m                                 Traceback (most recent call last)",
      "Cell \u001b[1;32mIn[28], line 2\u001b[0m\n\u001b[0;32m      1\u001b[0m \u001b[38;5;66;03m# Calculate beta of all daily returns of AMZN\u001b[39;00m\n\u001b[1;32m----> 2\u001b[0m amzn_beta \u001b[38;5;241m=\u001b[39m \u001b[43mcovariance\u001b[49m \u001b[38;5;241m/\u001b[39m variance\n\u001b[0;32m      3\u001b[0m amzn_beta\n",
      "\u001b[1;31mNameError\u001b[0m: name 'covariance' is not defined"
     ]
    }
   ],
   "source": [
    "# Calculate beta of all daily returns of AMZN\n",
    "amzn_beta = covariance / variance\n",
    "amzn_beta"
   ]
  },
  {
   "cell_type": "code",
   "execution_count": 29,
   "id": "676e6c7b-2462-4f48-b51b-dc60df07d392",
   "metadata": {},
   "outputs": [
    {
     "ename": "NameError",
     "evalue": "name 'daily_returns' is not defined",
     "output_type": "error",
     "traceback": [
      "\u001b[1;31m---------------------------------------------------------------------------\u001b[0m",
      "\u001b[1;31mNameError\u001b[0m                                 Traceback (most recent call last)",
      "Cell \u001b[1;32mIn[29], line 1\u001b[0m\n\u001b[1;32m----> 1\u001b[0m \u001b[43mdaily_returns\u001b[49m\u001b[38;5;241m.\u001b[39mcorr()\n",
      "\u001b[1;31mNameError\u001b[0m: name 'daily_returns' is not defined"
     ]
    }
   ],
   "source": [
    "daily_returns.corr()"
   ]
  },
  {
   "cell_type": "code",
   "execution_count": 30,
   "id": "aaa83893-47d6-4498-ace2-5a8d0518c16b",
   "metadata": {},
   "outputs": [
    {
     "data": {
      "text/html": [
       "<div>\n",
       "<style scoped>\n",
       "    .dataframe tbody tr th:only-of-type {\n",
       "        vertical-align: middle;\n",
       "    }\n",
       "\n",
       "    .dataframe tbody tr th {\n",
       "        vertical-align: top;\n",
       "    }\n",
       "\n",
       "    .dataframe thead tr th {\n",
       "        text-align: left;\n",
       "    }\n",
       "</style>\n",
       "<table border=\"1\" class=\"dataframe\">\n",
       "  <thead>\n",
       "    <tr>\n",
       "      <th></th>\n",
       "      <th></th>\n",
       "      <th colspan=\"4\" halign=\"left\">Whale</th>\n",
       "      <th colspan=\"2\" halign=\"left\">Algo</th>\n",
       "      <th colspan=\"2\" halign=\"left\">S&amp;P</th>\n",
       "    </tr>\n",
       "    <tr>\n",
       "      <th></th>\n",
       "      <th></th>\n",
       "      <th>SOROS FUND MANAGEMENT LLC</th>\n",
       "      <th>PAULSON &amp; CO.INC.</th>\n",
       "      <th>TIGER GLOBAL MANAGEMENT LLC</th>\n",
       "      <th>BERKSHIRE HATHAWAY INC</th>\n",
       "      <th>Algo 1</th>\n",
       "      <th>Algo 2</th>\n",
       "      <th>Close</th>\n",
       "      <th>S&amp;P TSX</th>\n",
       "    </tr>\n",
       "  </thead>\n",
       "  <tbody>\n",
       "    <tr>\n",
       "      <th rowspan=\"4\" valign=\"top\">Whale</th>\n",
       "      <th>SOROS FUND MANAGEMENT LLC</th>\n",
       "      <td>1.000000</td>\n",
       "      <td>0.697076</td>\n",
       "      <td>0.560964</td>\n",
       "      <td>0.750181</td>\n",
       "      <td>0.313795</td>\n",
       "      <td>0.826667</td>\n",
       "      <td>0.065582</td>\n",
       "      <td>0.673930</td>\n",
       "    </tr>\n",
       "    <tr>\n",
       "      <th>PAULSON &amp; CO.INC.</th>\n",
       "      <td>0.697076</td>\n",
       "      <td>1.000000</td>\n",
       "      <td>0.433034</td>\n",
       "      <td>0.540033</td>\n",
       "      <td>0.266363</td>\n",
       "      <td>0.674015</td>\n",
       "      <td>0.057284</td>\n",
       "      <td>0.486511</td>\n",
       "    </tr>\n",
       "    <tr>\n",
       "      <th>TIGER GLOBAL MANAGEMENT LLC</th>\n",
       "      <td>0.560964</td>\n",
       "      <td>0.433034</td>\n",
       "      <td>1.000000</td>\n",
       "      <td>0.423524</td>\n",
       "      <td>0.161236</td>\n",
       "      <td>0.506689</td>\n",
       "      <td>-0.012292</td>\n",
       "      <td>0.440583</td>\n",
       "    </tr>\n",
       "    <tr>\n",
       "      <th>BERKSHIRE HATHAWAY INC</th>\n",
       "      <td>0.750181</td>\n",
       "      <td>0.540033</td>\n",
       "      <td>0.423524</td>\n",
       "      <td>1.000000</td>\n",
       "      <td>0.289378</td>\n",
       "      <td>0.684609</td>\n",
       "      <td>0.067720</td>\n",
       "      <td>0.557250</td>\n",
       "    </tr>\n",
       "    <tr>\n",
       "      <th rowspan=\"2\" valign=\"top\">Algo</th>\n",
       "      <th>Algo 1</th>\n",
       "      <td>0.313795</td>\n",
       "      <td>0.266363</td>\n",
       "      <td>0.161236</td>\n",
       "      <td>0.289378</td>\n",
       "      <td>1.000000</td>\n",
       "      <td>0.285455</td>\n",
       "      <td>-0.054593</td>\n",
       "      <td>0.310276</td>\n",
       "    </tr>\n",
       "    <tr>\n",
       "      <th>Algo 2</th>\n",
       "      <td>0.826667</td>\n",
       "      <td>0.674015</td>\n",
       "      <td>0.506689</td>\n",
       "      <td>0.684609</td>\n",
       "      <td>0.285455</td>\n",
       "      <td>1.000000</td>\n",
       "      <td>0.076330</td>\n",
       "      <td>0.737370</td>\n",
       "    </tr>\n",
       "    <tr>\n",
       "      <th rowspan=\"2\" valign=\"top\">S&amp;P</th>\n",
       "      <th>Close</th>\n",
       "      <td>0.065582</td>\n",
       "      <td>0.057284</td>\n",
       "      <td>-0.012292</td>\n",
       "      <td>0.067720</td>\n",
       "      <td>-0.054593</td>\n",
       "      <td>0.076330</td>\n",
       "      <td>1.000000</td>\n",
       "      <td>0.052511</td>\n",
       "    </tr>\n",
       "    <tr>\n",
       "      <th>S&amp;P TSX</th>\n",
       "      <td>0.673930</td>\n",
       "      <td>0.486511</td>\n",
       "      <td>0.440583</td>\n",
       "      <td>0.557250</td>\n",
       "      <td>0.310276</td>\n",
       "      <td>0.737370</td>\n",
       "      <td>0.052511</td>\n",
       "      <td>1.000000</td>\n",
       "    </tr>\n",
       "  </tbody>\n",
       "</table>\n",
       "</div>"
      ],
      "text/plain": [
       "                                                      Whale  \\\n",
       "                                  SOROS FUND MANAGEMENT LLC   \n",
       "Whale SOROS FUND MANAGEMENT LLC                    1.000000   \n",
       "      PAULSON & CO.INC.                            0.697076   \n",
       "      TIGER GLOBAL MANAGEMENT LLC                  0.560964   \n",
       "      BERKSHIRE HATHAWAY INC                       0.750181   \n",
       "Algo  Algo 1                                       0.313795   \n",
       "      Algo 2                                       0.826667   \n",
       "S&P   Close                                        0.065582   \n",
       "      S&P TSX                                      0.673930   \n",
       "\n",
       "                                                      \\\n",
       "                                  PAULSON & CO.INC.    \n",
       "Whale SOROS FUND MANAGEMENT LLC             0.697076   \n",
       "      PAULSON & CO.INC.                     1.000000   \n",
       "      TIGER GLOBAL MANAGEMENT LLC           0.433034   \n",
       "      BERKSHIRE HATHAWAY INC                0.540033   \n",
       "Algo  Algo 1                                0.266363   \n",
       "      Algo 2                                0.674015   \n",
       "S&P   Close                                 0.057284   \n",
       "      S&P TSX                               0.486511   \n",
       "\n",
       "                                                               \\\n",
       "                                  TIGER GLOBAL MANAGEMENT LLC   \n",
       "Whale SOROS FUND MANAGEMENT LLC                      0.560964   \n",
       "      PAULSON & CO.INC.                              0.433034   \n",
       "      TIGER GLOBAL MANAGEMENT LLC                    1.000000   \n",
       "      BERKSHIRE HATHAWAY INC                         0.423524   \n",
       "Algo  Algo 1                                         0.161236   \n",
       "      Algo 2                                         0.506689   \n",
       "S&P   Close                                         -0.012292   \n",
       "      S&P TSX                                        0.440583   \n",
       "\n",
       "                                                              Algo            \\\n",
       "                                  BERKSHIRE HATHAWAY INC    Algo 1    Algo 2   \n",
       "Whale SOROS FUND MANAGEMENT LLC                 0.750181  0.313795  0.826667   \n",
       "      PAULSON & CO.INC.                         0.540033  0.266363  0.674015   \n",
       "      TIGER GLOBAL MANAGEMENT LLC               0.423524  0.161236  0.506689   \n",
       "      BERKSHIRE HATHAWAY INC                    1.000000  0.289378  0.684609   \n",
       "Algo  Algo 1                                    0.289378  1.000000  0.285455   \n",
       "      Algo 2                                    0.684609  0.285455  1.000000   \n",
       "S&P   Close                                     0.067720 -0.054593  0.076330   \n",
       "      S&P TSX                                   0.557250  0.310276  0.737370   \n",
       "\n",
       "                                        S&P            \n",
       "                                      Close   S&P TSX  \n",
       "Whale SOROS FUND MANAGEMENT LLC    0.065582  0.673930  \n",
       "      PAULSON & CO.INC.            0.057284  0.486511  \n",
       "      TIGER GLOBAL MANAGEMENT LLC -0.012292  0.440583  \n",
       "      BERKSHIRE HATHAWAY INC       0.067720  0.557250  \n",
       "Algo  Algo 1                      -0.054593  0.310276  \n",
       "      Algo 2                       0.076330  0.737370  \n",
       "S&P   Close                        1.000000  0.052511  \n",
       "      S&P TSX                      0.052511  1.000000  "
      ]
     },
     "execution_count": 30,
     "metadata": {},
     "output_type": "execute_result"
    }
   ],
   "source": [
    "# Calculate the correllation between each stock\n",
    "df.corr()"
   ]
  },
  {
   "cell_type": "code",
   "execution_count": 31,
   "id": "7bc4864d-b533-4ba7-b633-364335de4f1d",
   "metadata": {},
   "outputs": [
    {
     "data": {
      "text/plain": [
       "<Axes: title={'center': 'Correlation between each stock and the market index'}>"
      ]
     },
     "execution_count": 31,
     "metadata": {},
     "output_type": "execute_result"
    },
    {
     "data": {
      "image/png": "[encoded data removed]",
      "text/plain": [
       "<Figure size 2000x1000 with 1 Axes>"
      ]
     },
     "metadata": {},
     "output_type": "display_data"
    }
   ],
   "source": [
    "df.corr().plot(figsize=(20,10), title = \"Correlation between each stock and the market index\")"
   ]
  },
  {
   "cell_type": "code",
   "execution_count": null,
   "id": "3ecd6dac-e984-49a6-b539-69d6e01c5be0",
   "metadata": {},
   "outputs": [],
   "source": [
    "### Algo 2 is highly correlated to the S&P: correlation coefficient =  0.7373. In other words, 73.73% of the variation in returns of Algo 2 can be explained by the movements in the S&P TSX 60.\n",
    "### Soros Fund Management is highly correlated to the S&P (coeff = 0.673930). In other words, 67.39% of the variation in returns of Soros Fund can be explained by the movements in the S&P TSX 60.\n",
    "### Berkshire Hathaway is moderately correlated to the S&P (coeff = 0.557250). In other words, 55.73% of the variation in returns of Berkshire Hathaway can be explained by the movements in the S&P TSX 60."
   ]
  },
  {
   "cell_type": "code",
   "execution_count": null,
   "id": "0605f17d-9aaf-44c3-ade4-db9d73ecb596",
   "metadata": {},
   "outputs": [],
   "source": [
    "### Given that the second stock in the Algo portfolio (Algo 1) has a low correlation with the S&P TSX, I will not consider that it is closely related to the S&P.\n",
    "### However, in the Whale portfolio, 2 out of the 4 stocks have a moderate to high correlation with the S&P TSX. The Paulson stock is 2% away from being moderately correlated to the S&P. So we can iner that the Whale porfolio mimicks the S&P TSX 60."
   ]
  },
  {
   "cell_type": "code",
   "execution_count": null,
   "id": "902f295a-21fd-4a3e-8691-a568b107a794",
   "metadata": {},
   "outputs": [],
   "source": [
    "# Choose one portfolio, then calculate and plot the 60-day rolling beta between that portfolio and the S&P TSX 60.\n",
    "# I choose Algo "
   ]
  },
  {
   "cell_type": "code",
   "execution_count": null,
   "id": "2efa94f9-1f0f-46ae-8a96-ac42b521335c",
   "metadata": {},
   "outputs": [],
   "source": [
    "#variance S&P\n",
    "# the data on the S&P starts in 2012, and in 2014 for Algo. To ensure that the correlation between both is correct, I'm going to use the intersection in data between the two. So I'm basing the calculation on the df dataframe starting in 2015.\n",
    "variance = df['S&P TSX'].var()\n",
    "variance"
   ]
  },
  {
   "cell_type": "code",
   "execution_count": null,
   "id": "22176d0f-ffba-4eba-ac33-fa3144298f0d",
   "metadata": {},
   "outputs": [],
   "source": [
    "# calculating the daily returns of Algo in the join data frame \n",
    "weights2 = [0.5, 0.5]\n",
    "new_algo_portfolio_returns = df[['Algo 1','Algo 2']].dot(weights2)\n",
    "new_algo_portfolio_returns"
   ]
  },
  {
   "cell_type": "code",
   "execution_count": null,
   "id": "89a5c0b5-c7cf-4a8a-8125-2177ec44313b",
   "metadata": {},
   "outputs": [],
   "source": [
    "# covariance between Algo portfolio and S&P\n",
    "covariance = new_algo_portfolio_returns.cov(df['S&P TSX'])\n",
    "covariance"
   ]
  },
  {
   "cell_type": "code",
   "execution_count": null,
   "id": "91d7a89b-dc38-4e1a-b649-e66541c19268",
   "metadata": {},
   "outputs": [],
   "source": [
    "# Calculate 60-day rolling covariance of Algo vs. S&P 500 \n",
    "rolling_covariance = new_algo_portfolio_returns.rolling(window=60).cov(df['S&P TSX'])\n",
    "rolling_covariance"
   ]
  },
  {
   "cell_type": "code",
   "execution_count": null,
   "id": "64fe8c2e-1df9-4f43-a7e1-7bb2ffa1af4a",
   "metadata": {},
   "outputs": [],
   "source": [
    "# Calculate 60-day rolling variance of S&P 500 \n",
    "rolling_variance = df['S&P TSX'].rolling(window=60).var()\n",
    "rolling_variance"
   ]
  },
  {
   "cell_type": "code",
   "execution_count": null,
   "id": "d40192fd-a117-45b6-a78b-a8817f1a9155",
   "metadata": {},
   "outputs": [],
   "source": [
    "# Calculate 60-day rolling beta of Algo and plot the data\n",
    "rolling_beta = rolling_covariance / rolling_variance\n",
    "rolling_beta"
   ]
  },
  {
   "cell_type": "code",
   "execution_count": null,
   "id": "37c3f16c-559f-434f-9af7-6ff53fca63b5",
   "metadata": {},
   "outputs": [],
   "source": [
    "rolling_beta.plot(figsize=(20, 10), title='Rolling 60-Day Beta of Algo')"
   ]
  },
  {
   "cell_type": "code",
   "execution_count": null,
   "id": "dbf7a36c-62f8-4d7c-880e-2a9eff4e512e",
   "metadata": {},
   "outputs": [],
   "source": [
    "#Rolling Statistics Challenge\n",
    "new_algo_portfolio_returns.ewm(halflife=21).std().plot()"
   ]
  },
  {
   "cell_type": "code",
   "execution_count": null,
   "id": "1d6c580b-c41c-4d99-a025-e63b5d6b22de",
   "metadata": {},
   "outputs": [],
   "source": [
    "\n",
    "def weighted_moving_average(i) :\n",
    "    EWMA = []\n",
    "  \n",
    "    for i in new_algo_portfolio_returns:\n",
    "                weighted_moving_average = new_algo_portfolio_returns[i+1]*(21/(1+len(new_algo_portfolio_returns)))+ EWMA(i-1)*(1-(21/(1+len(new_algo_portfolio_returns))))\n",
    "\n",
    "    return weighted_moving_average(i)\n",
    "\n",
    "print(EWMA)"
   ]
  },
  {
   "cell_type": "code",
   "execution_count": null,
   "id": "6a4bdaf0-83b4-45f4-8598-d2a7d0bc4f3c",
   "metadata": {},
   "outputs": [],
   "source": [
    "#Using the daily returns, calculate the Sharpe ratios and visualise them in a bar plot.\n",
    "\n",
    "#Determine whether the algorithmic strategies outperform both the market (S&P TSX 60) and the whales portfolios."
   ]
  },
  {
   "cell_type": "code",
   "execution_count": null,
   "id": "0158c0e1-9edb-4362-a8d1-d8cfdf674d88",
   "metadata": {},
   "outputs": [],
   "source": [
    "#Using the daily returns, calculate the Sharpe ratios \n",
    "# Since we're comparing the 3 portfolios on the same plot I'm going to use the overlapping data between all portfolios\n",
    "df['S&P TSX']\n",
    "new_algo_portfolio_returns\n",
    "df"
   ]
  },
  {
   "cell_type": "code",
   "execution_count": null,
   "id": "25473187-05a2-4096-9d58-cd502efaa8ed",
   "metadata": {},
   "outputs": [],
   "source": [
    "new_whale_portfolio_returns = df[['SOROS FUND MANAGEMENT LLC', 'PAULSON & CO.INC. ', 'TIGER GLOBAL MANAGEMENT LLC', 'BERKSHIRE HATHAWAY INC']]\n",
    "new_whale_portfolio_returns "
   ]
  },
  {
   "cell_type": "code",
   "execution_count": null,
   "id": "c4cbaee3-ef87-4f71-b74e-dd6b3fc7a71e",
   "metadata": {},
   "outputs": [],
   "source": [
    "sharpe_ratios = ((all_portfolios_returns.mean()-all_portfolios_returns['rf_rate'].mean()) * 252) / (all_portfolios_returns.std() * np.sqrt(252))\n",
    "sharpe_ratios"
   ]
  },
  {
   "cell_type": "code",
   "execution_count": null,
   "id": "8f77e27c-9944-430f-bdde-1f264d21c477",
   "metadata": {},
   "outputs": [],
   "source": [
    "CGAU Centerra Gold"
   ]
  },
  {
   "cell_type": "code",
   "execution_count": null,
   "id": "93eef7a9-364d-4c32-affa-8d7667fe5f5b",
   "metadata": {},
   "outputs": [],
   "source": [
    "TSLA Tesla"
   ]
  },
  {
   "cell_type": "code",
   "execution_count": null,
   "id": "e701a28f-7be5-43a0-869c-e94f3482238a",
   "metadata": {},
   "outputs": [],
   "source": [
    "STRL Sterling infrastructure"
   ]
  },
  {
   "cell_type": "code",
   "execution_count": null,
   "id": "5246b818-20fe-484d-9b4e-9f0ec5a586e2",
   "metadata": {},
   "outputs": [],
   "source": [
    "OTEX, L and SHOP."
   ]
  },
  {
   "cell_type": "code",
   "execution_count": null,
   "id": "d5b22819-105c-4053-b8ac-046575950a9c",
   "metadata": {},
   "outputs": [],
   "source": [
    "df = df.rename(columns={'oldName1': 'newName1', 'oldName2': 'newName2'})"
   ]
  },
  {
   "cell_type": "code",
   "execution_count": 48,
   "id": "1f2e5e07-17ea-4465-8e1e-cdc5532b99e3",
   "metadata": {},
   "outputs": [
    {
     "data": {
      "text/html": [
       "<div>\n",
       "<style scoped>\n",
       "    .dataframe tbody tr th:only-of-type {\n",
       "        vertical-align: middle;\n",
       "    }\n",
       "\n",
       "    .dataframe tbody tr th {\n",
       "        vertical-align: top;\n",
       "    }\n",
       "\n",
       "    .dataframe thead th {\n",
       "        text-align: right;\n",
       "    }\n",
       "</style>\n",
       "<table border=\"1\" class=\"dataframe\">\n",
       "  <thead>\n",
       "    <tr style=\"text-align: right;\">\n",
       "      <th></th>\n",
       "      <th>Symbol</th>\n",
       "      <th>Close</th>\n",
       "    </tr>\n",
       "    <tr>\n",
       "      <th>Date</th>\n",
       "      <th></th>\n",
       "      <th></th>\n",
       "    </tr>\n",
       "  </thead>\n",
       "  <tbody>\n",
       "    <tr>\n",
       "      <th>2018-01-02</th>\n",
       "      <td>OTEX</td>\n",
       "      <td>43.58</td>\n",
       "    </tr>\n",
       "    <tr>\n",
       "      <th>2018-01-03</th>\n",
       "      <td>OTEX</td>\n",
       "      <td>43.07</td>\n",
       "    </tr>\n",
       "    <tr>\n",
       "      <th>2018-01-04</th>\n",
       "      <td>OTEX</td>\n",
       "      <td>42.91</td>\n",
       "    </tr>\n",
       "    <tr>\n",
       "      <th>2018-01-05</th>\n",
       "      <td>OTEX</td>\n",
       "      <td>42.57</td>\n",
       "    </tr>\n",
       "    <tr>\n",
       "      <th>2018-01-08</th>\n",
       "      <td>OTEX</td>\n",
       "      <td>42.16</td>\n",
       "    </tr>\n",
       "  </tbody>\n",
       "</table>\n",
       "</div>"
      ],
      "text/plain": [
       "           Symbol  Close\n",
       "Date                    \n",
       "2018-01-02   OTEX  43.58\n",
       "2018-01-03   OTEX  43.07\n",
       "2018-01-04   OTEX  42.91\n",
       "2018-01-05   OTEX  42.57\n",
       "2018-01-08   OTEX  42.16"
      ]
     },
     "execution_count": 48,
     "metadata": {},
     "output_type": "execute_result"
    }
   ],
   "source": [
    "csv_path4 =  Path(\"Starter_code/Resources/otex_historical.csv\")\n",
    "otex_returns = pd.read_csv(csv_path4, parse_dates=True, index_col='Date',infer_datetime_format=True)\n",
    "\n",
    "otex_returns.head()"
   ]
  },
  {
   "cell_type": "code",
   "execution_count": 52,
   "id": "18a3f180-d979-4e4a-b4dd-e7a6198011e9",
   "metadata": {},
   "outputs": [],
   "source": [
    "#otex_returns = otex_returns(columns={'Close':'O Close'})"
   ]
  },
  {
   "cell_type": "code",
   "execution_count": 53,
   "id": "bddae7d6-2e70-4e58-8495-cacbbe9fcf65",
   "metadata": {},
   "outputs": [
    {
     "data": {
      "text/html": [
       "<div>\n",
       "<style scoped>\n",
       "    .dataframe tbody tr th:only-of-type {\n",
       "        vertical-align: middle;\n",
       "    }\n",
       "\n",
       "    .dataframe tbody tr th {\n",
       "        vertical-align: top;\n",
       "    }\n",
       "\n",
       "    .dataframe thead th {\n",
       "        text-align: right;\n",
       "    }\n",
       "</style>\n",
       "<table border=\"1\" class=\"dataframe\">\n",
       "  <thead>\n",
       "    <tr style=\"text-align: right;\">\n",
       "      <th></th>\n",
       "      <th>Symbol</th>\n",
       "      <th>Close</th>\n",
       "    </tr>\n",
       "    <tr>\n",
       "      <th>Date</th>\n",
       "      <th></th>\n",
       "      <th></th>\n",
       "    </tr>\n",
       "  </thead>\n",
       "  <tbody>\n",
       "    <tr>\n",
       "      <th>2018-01-02</th>\n",
       "      <td>L</td>\n",
       "      <td>57.99</td>\n",
       "    </tr>\n",
       "    <tr>\n",
       "      <th>2018-01-03</th>\n",
       "      <td>L</td>\n",
       "      <td>57.41</td>\n",
       "    </tr>\n",
       "    <tr>\n",
       "      <th>2018-01-04</th>\n",
       "      <td>L</td>\n",
       "      <td>57.42</td>\n",
       "    </tr>\n",
       "    <tr>\n",
       "      <th>2018-01-05</th>\n",
       "      <td>L</td>\n",
       "      <td>57.42</td>\n",
       "    </tr>\n",
       "    <tr>\n",
       "      <th>2018-01-08</th>\n",
       "      <td>L</td>\n",
       "      <td>56.86</td>\n",
       "    </tr>\n",
       "  </tbody>\n",
       "</table>\n",
       "</div>"
      ],
      "text/plain": [
       "           Symbol  Close\n",
       "Date                    \n",
       "2018-01-02      L  57.99\n",
       "2018-01-03      L  57.41\n",
       "2018-01-04      L  57.42\n",
       "2018-01-05      L  57.42\n",
       "2018-01-08      L  56.86"
      ]
     },
     "execution_count": 53,
     "metadata": {},
     "output_type": "execute_result"
    }
   ],
   "source": [
    "csv_path5 =  Path(\"Starter_code/Resources/l_historical.csv\")\n",
    "l_returns = pd.read_csv(csv_path5, parse_dates=True, index_col='Date',infer_datetime_format=True)\n",
    "\n",
    "l_returns.head()"
   ]
  },
  {
   "cell_type": "code",
   "execution_count": 54,
   "id": "92b0eef3-9f26-45ad-8c68-1dad7e1017ec",
   "metadata": {},
   "outputs": [
    {
     "data": {
      "text/html": [
       "<div>\n",
       "<style scoped>\n",
       "    .dataframe tbody tr th:only-of-type {\n",
       "        vertical-align: middle;\n",
       "    }\n",
       "\n",
       "    .dataframe tbody tr th {\n",
       "        vertical-align: top;\n",
       "    }\n",
       "\n",
       "    .dataframe thead th {\n",
       "        text-align: right;\n",
       "    }\n",
       "</style>\n",
       "<table border=\"1\" class=\"dataframe\">\n",
       "  <thead>\n",
       "    <tr style=\"text-align: right;\">\n",
       "      <th></th>\n",
       "      <th>Symbol</th>\n",
       "      <th>Close</th>\n",
       "    </tr>\n",
       "    <tr>\n",
       "      <th>Date</th>\n",
       "      <th></th>\n",
       "      <th></th>\n",
       "    </tr>\n",
       "  </thead>\n",
       "  <tbody>\n",
       "    <tr>\n",
       "      <th>2018-01-02</th>\n",
       "      <td>SHOP</td>\n",
       "      <td>132.06</td>\n",
       "    </tr>\n",
       "    <tr>\n",
       "      <th>2018-01-03</th>\n",
       "      <td>SHOP</td>\n",
       "      <td>135.15</td>\n",
       "    </tr>\n",
       "    <tr>\n",
       "      <th>2018-01-04</th>\n",
       "      <td>SHOP</td>\n",
       "      <td>137.46</td>\n",
       "    </tr>\n",
       "    <tr>\n",
       "      <th>2018-01-05</th>\n",
       "      <td>SHOP</td>\n",
       "      <td>137.26</td>\n",
       "    </tr>\n",
       "    <tr>\n",
       "      <th>2018-01-08</th>\n",
       "      <td>SHOP</td>\n",
       "      <td>139.51</td>\n",
       "    </tr>\n",
       "  </tbody>\n",
       "</table>\n",
       "</div>"
      ],
      "text/plain": [
       "           Symbol   Close\n",
       "Date                     \n",
       "2018-01-02   SHOP  132.06\n",
       "2018-01-03   SHOP  135.15\n",
       "2018-01-04   SHOP  137.46\n",
       "2018-01-05   SHOP  137.26\n",
       "2018-01-08   SHOP  139.51"
      ]
     },
     "execution_count": 54,
     "metadata": {},
     "output_type": "execute_result"
    }
   ],
   "source": [
    "csv_path6 =  Path(\"Starter_code/Resources/shop_historical.csv\")\n",
    "shop_returns = pd.read_csv(csv_path6, parse_dates=True, index_col='Date',infer_datetime_format=True)\n",
    "\n",
    "shop_returns.head()"
   ]
  },
  {
   "cell_type": "code",
   "execution_count": 55,
   "id": "36881ab0-9ec9-47c0-b098-1330fb180972",
   "metadata": {},
   "outputs": [],
   "source": [
    "# Combine all stocks in a single DataFrame\n",
    "df = pd.concat([whale_returns2, algo_returns2, sp_tsx2], axis=\"columns\", join=\"inner\")"
   ]
  },
  {
   "cell_type": "code",
   "execution_count": 59,
   "id": "61cc7564-2483-4058-8362-187102796213",
   "metadata": {},
   "outputs": [
    {
     "data": {
      "text/html": [
       "<div>\n",
       "<style scoped>\n",
       "    .dataframe tbody tr th:only-of-type {\n",
       "        vertical-align: middle;\n",
       "    }\n",
       "\n",
       "    .dataframe tbody tr th {\n",
       "        vertical-align: top;\n",
       "    }\n",
       "\n",
       "    .dataframe thead th {\n",
       "        text-align: right;\n",
       "    }\n",
       "</style>\n",
       "<table border=\"1\" class=\"dataframe\">\n",
       "  <thead>\n",
       "    <tr style=\"text-align: right;\">\n",
       "      <th></th>\n",
       "      <th>Symbol</th>\n",
       "      <th>Close</th>\n",
       "    </tr>\n",
       "    <tr>\n",
       "      <th>Date</th>\n",
       "      <th></th>\n",
       "      <th></th>\n",
       "    </tr>\n",
       "  </thead>\n",
       "  <tbody>\n",
       "    <tr>\n",
       "      <th>2018-01-02</th>\n",
       "      <td>OTEX</td>\n",
       "      <td>43.58</td>\n",
       "    </tr>\n",
       "    <tr>\n",
       "      <th>2018-01-03</th>\n",
       "      <td>OTEX</td>\n",
       "      <td>43.07</td>\n",
       "    </tr>\n",
       "    <tr>\n",
       "      <th>2018-01-04</th>\n",
       "      <td>OTEX</td>\n",
       "      <td>42.91</td>\n",
       "    </tr>\n",
       "    <tr>\n",
       "      <th>2018-01-05</th>\n",
       "      <td>OTEX</td>\n",
       "      <td>42.57</td>\n",
       "    </tr>\n",
       "    <tr>\n",
       "      <th>2018-01-08</th>\n",
       "      <td>OTEX</td>\n",
       "      <td>42.16</td>\n",
       "    </tr>\n",
       "    <tr>\n",
       "      <th>...</th>\n",
       "      <td>...</td>\n",
       "      <td>...</td>\n",
       "    </tr>\n",
       "    <tr>\n",
       "      <th>2019-12-20</th>\n",
       "      <td>SHOP</td>\n",
       "      <td>513.22</td>\n",
       "    </tr>\n",
       "    <tr>\n",
       "      <th>2019-12-23</th>\n",
       "      <td>SHOP</td>\n",
       "      <td>511.62</td>\n",
       "    </tr>\n",
       "    <tr>\n",
       "      <th>2019-12-24</th>\n",
       "      <td>SHOP</td>\n",
       "      <td>525.39</td>\n",
       "    </tr>\n",
       "    <tr>\n",
       "      <th>2019-12-27</th>\n",
       "      <td>SHOP</td>\n",
       "      <td>534.76</td>\n",
       "    </tr>\n",
       "    <tr>\n",
       "      <th>2019-12-30</th>\n",
       "      <td>SHOP</td>\n",
       "      <td>517.79</td>\n",
       "    </tr>\n",
       "  </tbody>\n",
       "</table>\n",
       "<p>1503 rows × 2 columns</p>\n",
       "</div>"
      ],
      "text/plain": [
       "           Symbol   Close\n",
       "Date                     \n",
       "2018-01-02   OTEX   43.58\n",
       "2018-01-03   OTEX   43.07\n",
       "2018-01-04   OTEX   42.91\n",
       "2018-01-05   OTEX   42.57\n",
       "2018-01-08   OTEX   42.16\n",
       "...           ...     ...\n",
       "2019-12-20   SHOP  513.22\n",
       "2019-12-23   SHOP  511.62\n",
       "2019-12-24   SHOP  525.39\n",
       "2019-12-27   SHOP  534.76\n",
       "2019-12-30   SHOP  517.79\n",
       "\n",
       "[1503 rows x 2 columns]"
      ]
     },
     "execution_count": 59,
     "metadata": {},
     "output_type": "execute_result"
    }
   ],
   "source": [
    "df_stocks = pd.concat([otex_returns,l_returns,shop_returns], axis=0, join=\"inner\")\n",
    "df_stocks"
   ]
  },
  {
   "cell_type": "code",
   "execution_count": 66,
   "id": "8a7716a7-da36-41f4-b369-e65183dcea10",
   "metadata": {},
   "outputs": [
    {
     "data": {
      "text/html": [
       "<div>\n",
       "<style scoped>\n",
       "    .dataframe tbody tr th:only-of-type {\n",
       "        vertical-align: middle;\n",
       "    }\n",
       "\n",
       "    .dataframe tbody tr th {\n",
       "        vertical-align: top;\n",
       "    }\n",
       "\n",
       "    .dataframe thead tr th {\n",
       "        text-align: left;\n",
       "    }\n",
       "\n",
       "    .dataframe thead tr:last-of-type th {\n",
       "        text-align: right;\n",
       "    }\n",
       "</style>\n",
       "<table border=\"1\" class=\"dataframe\">\n",
       "  <thead>\n",
       "    <tr>\n",
       "      <th></th>\n",
       "      <th>OTEX</th>\n",
       "      <th>L</th>\n",
       "      <th>SHOP</th>\n",
       "    </tr>\n",
       "    <tr>\n",
       "      <th></th>\n",
       "      <th>Close</th>\n",
       "      <th>Close</th>\n",
       "      <th>Close</th>\n",
       "    </tr>\n",
       "    <tr>\n",
       "      <th>Date</th>\n",
       "      <th></th>\n",
       "      <th></th>\n",
       "      <th></th>\n",
       "    </tr>\n",
       "  </thead>\n",
       "  <tbody>\n",
       "    <tr>\n",
       "      <th>2018-01-02</th>\n",
       "      <td>43.58</td>\n",
       "      <td>57.99</td>\n",
       "      <td>132.06</td>\n",
       "    </tr>\n",
       "    <tr>\n",
       "      <th>2018-01-03</th>\n",
       "      <td>43.07</td>\n",
       "      <td>57.41</td>\n",
       "      <td>135.15</td>\n",
       "    </tr>\n",
       "    <tr>\n",
       "      <th>2018-01-04</th>\n",
       "      <td>42.91</td>\n",
       "      <td>57.42</td>\n",
       "      <td>137.46</td>\n",
       "    </tr>\n",
       "    <tr>\n",
       "      <th>2018-01-05</th>\n",
       "      <td>42.57</td>\n",
       "      <td>57.42</td>\n",
       "      <td>137.26</td>\n",
       "    </tr>\n",
       "    <tr>\n",
       "      <th>2018-01-08</th>\n",
       "      <td>42.16</td>\n",
       "      <td>56.86</td>\n",
       "      <td>139.51</td>\n",
       "    </tr>\n",
       "    <tr>\n",
       "      <th>...</th>\n",
       "      <td>...</td>\n",
       "      <td>...</td>\n",
       "      <td>...</td>\n",
       "    </tr>\n",
       "    <tr>\n",
       "      <th>2019-12-20</th>\n",
       "      <td>58.68</td>\n",
       "      <td>67.90</td>\n",
       "      <td>513.22</td>\n",
       "    </tr>\n",
       "    <tr>\n",
       "      <th>2019-12-23</th>\n",
       "      <td>57.89</td>\n",
       "      <td>67.68</td>\n",
       "      <td>511.62</td>\n",
       "    </tr>\n",
       "    <tr>\n",
       "      <th>2019-12-24</th>\n",
       "      <td>57.44</td>\n",
       "      <td>67.67</td>\n",
       "      <td>525.39</td>\n",
       "    </tr>\n",
       "    <tr>\n",
       "      <th>2019-12-27</th>\n",
       "      <td>57.70</td>\n",
       "      <td>67.78</td>\n",
       "      <td>534.76</td>\n",
       "    </tr>\n",
       "    <tr>\n",
       "      <th>2019-12-30</th>\n",
       "      <td>57.19</td>\n",
       "      <td>67.33</td>\n",
       "      <td>517.79</td>\n",
       "    </tr>\n",
       "  </tbody>\n",
       "</table>\n",
       "<p>501 rows × 3 columns</p>\n",
       "</div>"
      ],
      "text/plain": [
       "             OTEX      L    SHOP\n",
       "            Close  Close   Close\n",
       "Date                            \n",
       "2018-01-02  43.58  57.99  132.06\n",
       "2018-01-03  43.07  57.41  135.15\n",
       "2018-01-04  42.91  57.42  137.46\n",
       "2018-01-05  42.57  57.42  137.26\n",
       "2018-01-08  42.16  56.86  139.51\n",
       "...           ...    ...     ...\n",
       "2019-12-20  58.68  67.90  513.22\n",
       "2019-12-23  57.89  67.68  511.62\n",
       "2019-12-24  57.44  67.67  525.39\n",
       "2019-12-27  57.70  67.78  534.76\n",
       "2019-12-30  57.19  67.33  517.79\n",
       "\n",
       "[501 rows x 3 columns]"
      ]
     },
     "execution_count": 66,
     "metadata": {},
     "output_type": "execute_result"
    }
   ],
   "source": [
    "# Reorganize portfolio data by having a column per symbol\n",
    "# Reorganize the DataFrame\n",
    "\n",
    "# Separate ticker data\n",
    "OTEX = df_stocks[df_stocks['Symbol']=='OTEX'].drop('Symbol', axis=1)\n",
    "L = df_stocks[df_stocks['Symbol']=='L'].drop('Symbol', axis=1)\n",
    "SHOP = df_stocks[df_stocks['Symbol']=='SHOP'].drop('Symbol', axis=1)\n",
    "df_stock = pd.concat([OTEX, L, SHOP],axis=1, keys =['OTEX', 'L', 'SHOP'])\n",
    "df_stock"
   ]
  },
  {
   "cell_type": "code",
   "execution_count": null,
   "id": "febc67e1-4804-4b88-8b02-2a8c1c2f99cd",
   "metadata": {},
   "outputs": [],
   "source": [
    "# Concatenate the ticker DataFrames\n",
    "df_portfolio_year = pd.concat([FB, TWTR],axis=1, keys=['FB','TWTR'])\n",
    "\n",
    "# Display sample data\n",
    "df_portfolio_year"
   ]
  },
  {
   "cell_type": "code",
   "execution_count": null,
   "id": "20b57ec2-cd9b-4c1b-bb62-b6a32019c242",
   "metadata": {},
   "outputs": [],
   "source": [
    "OTEX = df_finaldf_stocks"
   ]
  }
 ],
 "metadata": {
  "kernelspec": {
   "display_name": "Python 3 (ipykernel)",
   "language": "python",
   "name": "python3"
  },
  "language_info": {
   "codemirror_mode": {
    "name": "ipython",
    "version": 3
   },
   "file_extension": ".py",
   "mimetype": "text/x-python",
   "name": "python",
   "nbconvert_exporter": "python",
   "pygments_lexer": "ipython3",
   "version": "3.10.9"
  }
 },
 "nbformat": 4,
 "nbformat_minor": 5
}
